{
 "cells": [
  {
   "cell_type": "markdown",
   "metadata": {},
   "source": [
    "This script will calculate the average RMSD between the homology model (non-equilibrated and equilibrated) and the crystal structure. "
   ]
  },
  {
   "cell_type": "code",
   "execution_count": 1,
   "metadata": {},
   "outputs": [],
   "source": [
    "# load packages\n",
    "import mdtraj as md\n",
    "import numpy as np\n",
    "import matplotlib.pyplot as plt"
   ]
  },
  {
   "cell_type": "markdown",
   "metadata": {},
   "source": [
    "# using the non-equilibrated model (model from MODELLER)"
   ]
  },
  {
   "cell_type": "code",
   "execution_count": 3,
   "metadata": {},
   "outputs": [
    {
     "name": "stdout",
     "output_type": "stream",
     "text": [
      "Do the residues/numbers match?\n",
      "    VAL531-CA VAL531-CA\n",
      "    PRO544-CA PRO544-CA\n",
      "    ASP656-CA ASP656-CA\n",
      "    SER673-CA SER673-CA\n",
      "    ARG696-CA ARG696-CA\n",
      "    number of atoms: 668 668\n",
      "    yes\n"
     ]
    }
   ],
   "source": [
    "# load models: \n",
    "homology_model = md.load(\"../example_files/hlac_ZAFF_dry_GMX.gro\") # non-equilibrated model \n",
    "crystal_structure = md.load(\"../example_files/6lvw.pdb\") \n",
    "crystal_structure # the crystal structure SHOULD have 700 residues but is missing some. \n",
    "\n",
    "# residues missing in crystal structure [532, 543] , [657, 672] , [697, 700]\n",
    "# save ONLY the residues included in the crystal structure\n",
    "section1 = homology_model.topology.select(\"residue 1   to 531 and name CA\")\n",
    "section2 = homology_model.topology.select(\"residue 544 to 656 and name CA\")\n",
    "section3 = homology_model.topology.select(\"residue 673 to 696 and name CA\")\n",
    "atoms_homology = np.concatenate([section1,section2,section3])\n",
    "\n",
    "section1c = crystal_structure.topology.select(\"residue 1  to 531 and name CA\")\n",
    "section2c = crystal_structure.topology.select(\"residue 544 to 656 and name CA\")\n",
    "section3c = crystal_structure.topology.select(\"residue 673 to 696 and name CA\")\n",
    "atoms_crystal = np.concatenate([section1c,section2c,section3c])\n",
    "\n",
    "# make sure the atoms/residues match up:\n",
    "print(\"Do the residues/numbers match?\")\n",
    "print(\"   \", crystal_structure.topology.atom(4229), homology_model.topology.atom(8095))\n",
    "print(\"   \", crystal_structure.topology.atom(4236), homology_model.topology.atom(8270))\n",
    "print(\"   \", crystal_structure.topology.atom(5104), homology_model.topology.atom(9942))\n",
    "print(\"   \", crystal_structure.topology.atom(5112), homology_model.topology.atom(10177))\n",
    "print(\"   \", crystal_structure.topology.atom(5265), homology_model.topology.atom(10477))\n",
    "print(\"   \", \"number of atoms:\", len(atoms_homology), len(atoms_crystal))\n",
    "print(\"   \", \"yes\")"
   ]
  },
  {
   "cell_type": "markdown",
   "metadata": {},
   "source": [
    "### All residues: "
   ]
  },
  {
   "cell_type": "code",
   "execution_count": 4,
   "metadata": {
    "scrolled": true
   },
   "outputs": [
    {
     "name": "stdout",
     "output_type": "stream",
     "text": [
      "RMSD: [0.43723595] nm\n",
      "RMSD: [4.3723593] A\n"
     ]
    }
   ],
   "source": [
    "# using ALL available (non-missing) residues\n",
    "# superpose the two structures first, using the crystal structure as the reference\n",
    "superposed = homology_model.superpose(crystal_structure, atom_indices=atoms_homology, ref_atom_indices=atoms_crystal)\n",
    "RMSD_value = md.rmsd(superposed, crystal_structure, frame=0, atom_indices=atoms_homology, ref_atom_indices=atoms_crystal)\n",
    "print(\"RMSD:\", RMSD_value, \"nm\")\n",
    "print(\"RMSD:\", RMSD_value*10, \"A\")"
   ]
  },
  {
   "cell_type": "markdown",
   "metadata": {},
   "source": [
    "### Domain A: "
   ]
  },
  {
   "cell_type": "code",
   "execution_count": 5,
   "metadata": {},
   "outputs": [
    {
     "name": "stdout",
     "output_type": "stream",
     "text": [
      "RMSD: [0.11873313] nm\n",
      "RMSD: [1.1873313] A\n"
     ]
    }
   ],
   "source": [
    "# using only Domain A residues\n",
    "section1 = homology_model.topology.select(\"residue 1 to 390 and name CA\")\n",
    "atoms_homology = section1\n",
    "\n",
    "section1c = crystal_structure.topology.select(\"residue 1 to 390 and name CA\")\n",
    "atoms_crystal = section1c\n",
    "\n",
    "# superpose the two structures first, using the crystal structure as the reference\n",
    "superposed = homology_model.superpose(crystal_structure, atom_indices=atoms_homology, ref_atom_indices=atoms_crystal)\n",
    "RMSD_value = md.rmsd(superposed, crystal_structure, frame=0, atom_indices=atoms_homology, ref_atom_indices=atoms_crystal)\n",
    "print(\"RMSD:\", RMSD_value, \"nm\")\n",
    "print(\"RMSD:\", RMSD_value*10, \"A\")"
   ]
  },
  {
   "cell_type": "markdown",
   "metadata": {},
   "source": [
    "# using the equilibrated model (after npt, nvt, etc.)"
   ]
  },
  {
   "cell_type": "code",
   "execution_count": 8,
   "metadata": {},
   "outputs": [
    {
     "name": "stdout",
     "output_type": "stream",
     "text": [
      "Do the residues/numbers match?\n",
      "    VAL531-CA VAL531-CA\n",
      "    PRO544-CA PRO544-CA\n",
      "    ASP656-CA ASP656-CA\n",
      "    SER673-CA SER673-CA\n",
      "    ARG696-CA ARG696-CA\n",
      "    number of atoms: 668 668\n",
      "    yes\n"
     ]
    }
   ],
   "source": [
    "# load models: \n",
    "homology_model = md.load(\"../example_files/p16925-r27-c0.gro\") # equilibrated model, unbound\n",
    "crystal_structure = md.load(\"../example_files/6lvw.pdb\") \n",
    "\n",
    "# residues missing in crystal structure [532, 543] , [657, 672] , [697, 700]\n",
    "# save ONLY the residues included in the crystal structure\n",
    "section1 = homology_model.topology.select(\"residue 1   to 531 and name CA\")\n",
    "section2 = homology_model.topology.select(\"residue 544 to 656 and name CA\")\n",
    "section3 = homology_model.topology.select(\"residue 673 to 696 and name CA\")\n",
    "atoms_homology = np.concatenate([section1,section2,section3])\n",
    "\n",
    "section1c = crystal_structure.topology.select(\"residue 1  to 531 and name CA\")\n",
    "section2c = crystal_structure.topology.select(\"residue 544 to 656 and name CA\")\n",
    "section3c = crystal_structure.topology.select(\"residue 673 to 696 and name CA\")\n",
    "atoms_crystal = np.concatenate([section1c,section2c,section3c])\n",
    "\n",
    "# make sure the atoms/residues match up:\n",
    "print(\"Do the residues/numbers match?\")\n",
    "print(\"   \", crystal_structure.topology.atom(4229), homology_model.topology.atom(8095))\n",
    "print(\"   \", crystal_structure.topology.atom(4236), homology_model.topology.atom(8270))\n",
    "print(\"   \", crystal_structure.topology.atom(5104), homology_model.topology.atom(9942))\n",
    "print(\"   \", crystal_structure.topology.atom(5112), homology_model.topology.atom(10177))\n",
    "print(\"   \", crystal_structure.topology.atom(5265), homology_model.topology.atom(10477))\n",
    "print(\"   \", \"number of atoms:\", len(atoms_homology), len(atoms_crystal))\n",
    "print(\"   \", \"yes\")"
   ]
  },
  {
   "cell_type": "markdown",
   "metadata": {},
   "source": [
    "### All residues: "
   ]
  },
  {
   "cell_type": "code",
   "execution_count": 9,
   "metadata": {},
   "outputs": [
    {
     "name": "stdout",
     "output_type": "stream",
     "text": [
      "RMSD: [0.48351255] nm\n",
      "RMSD: [4.8351254] A\n"
     ]
    }
   ],
   "source": [
    "# using ALL available (non-missing) residues\n",
    "# superpose the two structures first, using the crystal structure as the reference\n",
    "superposed = homology_model.superpose(crystal_structure, atom_indices=atoms_homology, ref_atom_indices=atoms_crystal)\n",
    "RMSD_value = md.rmsd(superposed, crystal_structure, frame=0, atom_indices=atoms_homology, ref_atom_indices=atoms_crystal)\n",
    "print(\"RMSD:\", RMSD_value, \"nm\")\n",
    "print(\"RMSD:\", RMSD_value*10, \"A\")"
   ]
  },
  {
   "cell_type": "markdown",
   "metadata": {},
   "source": [
    "### Domain A only: "
   ]
  },
  {
   "cell_type": "code",
   "execution_count": 10,
   "metadata": {},
   "outputs": [
    {
     "name": "stdout",
     "output_type": "stream",
     "text": [
      "RMSD: [0.17969185] nm\n",
      "RMSD: [1.7969185] A\n"
     ]
    }
   ],
   "source": [
    "# using only Domain A residues\n",
    "section1 = homology_model.topology.select(\"residue 1 to 390 and name CA\")\n",
    "atoms_homology = section1\n",
    "\n",
    "section1c = crystal_structure.topology.select(\"residue 1 to 390 and name CA\")\n",
    "atoms_crystal = section1c\n",
    "\n",
    "# superpose the two structures first, using the crystal structure as the reference\n",
    "superposed = homology_model.superpose(crystal_structure, atom_indices=atoms_homology, ref_atom_indices=atoms_crystal)\n",
    "RMSD_value = md.rmsd(superposed, crystal_structure, frame=0, atom_indices=atoms_homology, ref_atom_indices=atoms_crystal)\n",
    "print(\"RMSD:\", RMSD_value, \"nm\")\n",
    "print(\"RMSD:\", RMSD_value*10, \"A\")"
   ]
  }
 ],
 "metadata": {
  "kernelspec": {
   "display_name": "Python 3 (ipykernel)",
   "language": "python",
   "name": "python3"
  },
  "language_info": {
   "codemirror_mode": {
    "name": "ipython",
    "version": 3
   },
   "file_extension": ".py",
   "mimetype": "text/x-python",
   "name": "python",
   "nbconvert_exporter": "python",
   "pygments_lexer": "ipython3",
   "version": "3.9.7"
  }
 },
 "nbformat": 4,
 "nbformat_minor": 2
}
