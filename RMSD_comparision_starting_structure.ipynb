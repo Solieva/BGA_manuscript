{
 "cells": [
  {
   "cell_type": "markdown",
   "metadata": {},
   "source": [
    "This script will take the average RMSD of each residue between the homology model simulations and the crystal structure. "
   ]
  },
  {
   "cell_type": "code",
   "execution_count": 68,
   "metadata": {},
   "outputs": [],
   "source": [
    "# load packages\n",
    "import mdtraj as md\n",
    "import numpy as np\n",
    "import matplotlib.pyplot as plt"
   ]
  },
  {
   "cell_type": "markdown",
   "metadata": {},
   "source": [
    "# using the non-equilibrated model (model from MODELLER)"
   ]
  },
  {
   "cell_type": "code",
   "execution_count": 7,
   "metadata": {},
   "outputs": [
    {
     "data": {
      "text/plain": [
       "<mdtraj.Trajectory with 1 frames, 5280 atoms, 673 residues, and unitcells at 0x7ff850f89f28>"
      ]
     },
     "execution_count": 7,
     "metadata": {},
     "output_type": "execute_result"
    }
   ],
   "source": [
    "# load models: \n",
    "homology_model = md.load(\"../../hlac_ZAFF_dry_GMX.gro\") # non-equilibrated model \n",
    "crystal_structure = md.load(\"../6lvw.pdb\") \n",
    "crystal_structure # the crystal structure SHOULD have 700 residues but is missing some. \n",
    "\n",
    "# residues missing in crystal structure [532, 543] , [657, 672] , [697, 700]\n",
    "# save ONLY the residues included in the crystal structure\n",
    "section1 = homology_model.topology.select(\"residue 1   to 531 and name CA\")\n",
    "section2 = homology_model.topology.select(\"residue 544 to 656 and name CA\")\n",
    "section3 = homology_model.topology.select(\"residue 673 to 696 and name CA\")\n",
    "atoms_homology = np.concatenate([section1,section2,section3])\n",
    "\n",
    "section1c = crystal_structure.topology.select(\"residue 1  to 531 and name CA\")\n",
    "section2c = crystal_structure.topology.select(\"residue 544 to 656 and name CA\")\n",
    "section3c = crystal_structure.topology.select(\"residue 673 to 696 and name CA\")\n",
    "atoms_crystal = np.concatenate([section1c,section2c,section3c])\n",
    "\n",
    "# make sure the atoms/residues match up:\n",
    "print(\"Do the residues/numbers match?\")\n",
    "print(\"   \", crystal_structure.topology.atom(4229), homology_model.topology.atom(8095))\n",
    "print(\"   \", crystal_structure.topology.atom(4236), homology_model.topology.atom(8270))\n",
    "print(\"   \", crystal_structure.topology.atom(5104), homology_model.topology.atom(9942))\n",
    "print(\"   \", crystal_structure.topology.atom(5112), homology_model.topology.atom(10177))\n",
    "print(\"   \", crystal_structure.topology.atom(5265), homology_model.topology.atom(10477))\n",
    "print(\"   \", \"number of atoms:\", len(atoms_homology), len(atoms_crystal))\n",
    "print(\"   \", \"yes\")"
   ]
  },
  {
   "cell_type": "markdown",
   "metadata": {},
   "source": [
    "### All residues: "
   ]
  },
  {
   "cell_type": "code",
   "execution_count": 86,
   "metadata": {
    "scrolled": true
   },
   "outputs": [
    {
     "name": "stdout",
     "output_type": "stream",
     "text": [
      "RMSD: [0.43723595] nm\n",
      "RMSD: [4.3723593] A\n"
     ]
    }
   ],
   "source": [
    "# using ALL available (non-missing) residues\n",
    "# superpose the two structures first, using the crystal structure as the reference\n",
    "superposed = homology_model.superpose(crystal_structure, atom_indices=atoms_homology, ref_atom_indices=atoms_crystal)\n",
    "RMSD_value = md.rmsd(superposed, crystal_structure, frame=0, atom_indices=atoms_homology, ref_atom_indices=atoms_crystal)\n",
    "print(\"RMSD:\", RMSD_value, \"nm\")\n",
    "print(\"RMSD:\", RMSD_value*10, \"A\")"
   ]
  },
  {
   "cell_type": "markdown",
   "metadata": {},
   "source": [
    "### Domain A: "
   ]
  },
  {
   "cell_type": "code",
   "execution_count": 87,
   "metadata": {},
   "outputs": [
    {
     "name": "stdout",
     "output_type": "stream",
     "text": [
      "RMSD: [0.11873313] nm\n",
      "RMSD: [1.1873313] A\n"
     ]
    }
   ],
   "source": [
    "# using only Domain A residues\n",
    "section1 = homology_model.topology.select(\"residue 1 to 390 and name CA\")\n",
    "atoms_homology = section1\n",
    "\n",
    "section1c = crystal_structure.topology.select(\"residue 1 to 390 and name CA\")\n",
    "atoms_crystal = section1c\n",
    "\n",
    "# superpose the two structures first, using the crystal structure as the reference\n",
    "superposed = homology_model.superpose(crystal_structure, atom_indices=atoms_homology, ref_atom_indices=atoms_crystal)\n",
    "RMSD_value = md.rmsd(superposed, crystal_structure, frame=0, atom_indices=atoms_homology, ref_atom_indices=atoms_crystal)\n",
    "print(\"RMSD:\", RMSD_value, \"nm\")\n",
    "print(\"RMSD:\", RMSD_value*10, \"A\")"
   ]
  },
  {
   "cell_type": "markdown",
   "metadata": {},
   "source": [
    "# using the equilibrated model (after npt, nvt, etc.)"
   ]
  },
  {
   "cell_type": "code",
   "execution_count": 89,
   "metadata": {},
   "outputs": [],
   "source": [
    "# load models: \n",
    "homology_model = md.load(\"p14188-r6-c0.gro\") # equilibrated model, unbound\n",
    "crystal_structure = md.load(\"../6lvw.pdb\") \n",
    "\n",
    "# residues missing in crystal structure [532, 543] , [657, 672] , [697, 700]\n",
    "# save ONLY the residues included in the crystal structure\n",
    "section1 = homology_model.topology.select(\"residue 1   to 531 and name CA\")\n",
    "section2 = homology_model.topology.select(\"residue 544 to 656 and name CA\")\n",
    "section3 = homology_model.topology.select(\"residue 673 to 696 and name CA\")\n",
    "atoms_homology = np.concatenate([section1,section2,section3])\n",
    "\n",
    "section1c = crystal_structure.topology.select(\"residue 1  to 531 and name CA\")\n",
    "section2c = crystal_structure.topology.select(\"residue 544 to 656 and name CA\")\n",
    "section3c = crystal_structure.topology.select(\"residue 673 to 696 and name CA\")\n",
    "atoms_crystal = np.concatenate([section1c,section2c,section3c])\n",
    "\n",
    "# make sure the atoms/residues match up:\n",
    "print(\"Do the residues/numbers match?\")\n",
    "print(\"   \", crystal_structure.topology.atom(4229), homology_model.topology.atom(8095))\n",
    "print(\"   \", crystal_structure.topology.atom(4236), homology_model.topology.atom(8270))\n",
    "print(\"   \", crystal_structure.topology.atom(5104), homology_model.topology.atom(9942))\n",
    "print(\"   \", crystal_structure.topology.atom(5112), homology_model.topology.atom(10177))\n",
    "print(\"   \", crystal_structure.topology.atom(5265), homology_model.topology.atom(10477))\n",
    "print(\"   \", \"number of atoms:\", len(atoms_homology), len(atoms_crystal))\n",
    "print(\"   \", \"yes\")"
   ]
  },
  {
   "cell_type": "markdown",
   "metadata": {},
   "source": [
    "### All residues: "
   ]
  },
  {
   "cell_type": "code",
   "execution_count": 95,
   "metadata": {},
   "outputs": [
    {
     "name": "stdout",
     "output_type": "stream",
     "text": [
      "RMSD: [0.5099918] nm\n",
      "RMSD: [5.0999184] A\n"
     ]
    }
   ],
   "source": [
    "# using ALL available (non-missing) residues\n",
    "# superpose the two structures first, using the crystal structure as the reference\n",
    "superposed = homology_model.superpose(crystal_structure, atom_indices=atoms_homology, ref_atom_indices=atoms_crystal)\n",
    "RMSD_value = md.rmsd(superposed, crystal_structure, frame=0, atom_indices=atoms_homology, ref_atom_indices=atoms_crystal)\n",
    "print(\"RMSD:\", RMSD_value, \"nm\")\n",
    "print(\"RMSD:\", RMSD_value*10, \"A\")"
   ]
  },
  {
   "cell_type": "markdown",
   "metadata": {},
   "source": [
    "### Domain A only: "
   ]
  },
  {
   "cell_type": "code",
   "execution_count": 96,
   "metadata": {},
   "outputs": [
    {
     "name": "stdout",
     "output_type": "stream",
     "text": [
      "RMSD: [0.17711632] nm\n",
      "RMSD: [1.7711632] A\n"
     ]
    }
   ],
   "source": [
    "# using only Domain A residues\n",
    "section1 = homology_model.topology.select(\"residue 1 to 390 and name CA\")\n",
    "atoms_homology = section1\n",
    "\n",
    "section1c = crystal_structure.topology.select(\"residue 1 to 390 and name CA\")\n",
    "atoms_crystal = section1c\n",
    "\n",
    "# superpose the two structures first, using the crystal structure as the reference\n",
    "superposed = homology_model.superpose(crystal_structure, atom_indices=atoms_homology, ref_atom_indices=atoms_crystal)\n",
    "RMSD_value = md.rmsd(superposed, crystal_structure, frame=0, atom_indices=atoms_homology, ref_atom_indices=atoms_crystal)\n",
    "print(\"RMSD:\", RMSD_value, \"nm\")\n",
    "print(\"RMSD:\", RMSD_value*10, \"A\")"
   ]
  }
 ],
 "metadata": {
  "kernelspec": {
   "display_name": "Python 3",
   "language": "python",
   "name": "python3"
  },
  "language_info": {
   "codemirror_mode": {
    "name": "ipython",
    "version": 3
   },
   "file_extension": ".py",
   "mimetype": "text/x-python",
   "name": "python",
   "nbconvert_exporter": "python",
   "pygments_lexer": "ipython3",
   "version": "3.8.13"
  }
 },
 "nbformat": 4,
 "nbformat_minor": 2
}
