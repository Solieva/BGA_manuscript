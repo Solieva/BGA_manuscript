{
 "cells": [
  {
   "cell_type": "code",
   "execution_count": 1,
   "id": "f17802d9",
   "metadata": {},
   "outputs": [
    {
     "data": {
      "text/plain": [
       "'/Users/shahlosolieva/Desktop/BGA_manuscript/solvent_accessible_surface_area'"
      ]
     },
     "execution_count": 1,
     "metadata": {},
     "output_type": "execute_result"
    }
   ],
   "source": [
    "pwd"
   ]
  },
  {
   "cell_type": "code",
   "execution_count": 2,
   "id": "eab4e399",
   "metadata": {},
   "outputs": [],
   "source": [
    "path_to_external_drive = \"../../../../../Volumes/Passport_for_Mac/files_from_owlsnest_May16_2022/p16925/curating_dataset/SASA_calculations_May15_2022/\""
   ]
  },
  {
   "cell_type": "code",
   "execution_count": 3,
   "id": "095d5a70",
   "metadata": {},
   "outputs": [],
   "source": [
    "import numpy as np\n",
    "import matplotlib.pyplot as plt"
   ]
  },
  {
   "cell_type": "markdown",
   "id": "0279fc34",
   "metadata": {},
   "source": [
    "## Calculate total SASA for each temperature and molarity"
   ]
  },
  {
   "cell_type": "code",
   "execution_count": 4,
   "id": "82c5291a",
   "metadata": {},
   "outputs": [],
   "source": [
    "temperatures=[10,20,30,40,50]"
   ]
  },
  {
   "cell_type": "code",
   "execution_count": 5,
   "id": "0f360280",
   "metadata": {},
   "outputs": [
    {
     "name": "stdout",
     "output_type": "stream",
     "text": [
      "10 C:  318.18628\n",
      "20 C:  316.92847\n",
      "30 C:  315.01578\n",
      "40 C:  313.1018\n",
      "50 C:  311.53473\n"
     ]
    }
   ],
   "source": [
    "lists = [\"SASA_data_files/SASA_1M_run5_unbound.npy\",\n",
    "         \"SASA_data_files/SASA_1M_run6_unbound.npy\",\n",
    "         \"SASA_data_files/SASA_1M_run7_unbound.npy\",\n",
    "         \"SASA_data_files/SASA_1M_run26_unbound.npy\",\n",
    "         \"SASA_data_files/SASA_1M_run27_unbound.npy\"]\n",
    "SASA_1M=[]\n",
    "for i in range(len(lists)):\n",
    "    datafile2 = np.load(path_to_external_drive+lists[i], allow_pickle=True) # load the SASA values \n",
    "    avg = []\n",
    "    for j in range(len(datafile2)): # for each SASA dataset\n",
    "        avg.append(np.average(datafile2[j], axis=0)) # this gives us the average SASA value per atom for each trajectory\n",
    "    avg_2 = np.average(avg,axis=0) # this will average the trajectories, giving a final average SASA value per atom\n",
    "    print(temperatures[i],\"C: \", np.sum(avg_2)) # sum the average SASA value per atom to find the total SASA of the protein\n",
    "    SASA_1M.append(np.sum(avg_2))"
   ]
  },
  {
   "cell_type": "code",
   "execution_count": 6,
   "id": "1745b80c",
   "metadata": {},
   "outputs": [
    {
     "name": "stdout",
     "output_type": "stream",
     "text": [
      "10 C:  328.5409\n",
      "20 C:  325.4398\n",
      "30 C:  321.70926\n",
      "40 C:  318.89368\n",
      "50 C:  315.42462\n"
     ]
    }
   ],
   "source": [
    "lists = [\"SASA_data_files/SASA_2M_run5_unbound.npy\",\n",
    "         \"SASA_data_files/SASA_2M_run6_unbound.npy\",\n",
    "         \"SASA_data_files/SASA_2M_run7_unbound.npy\",\n",
    "         \"SASA_data_files/SASA_2M_run38_unbound.npy\",\n",
    "         \"SASA_data_files/SASA_2M_run39_unbound.npy\"]\n",
    "SASA_2M=[]\n",
    "for i in range(len(lists)):\n",
    "    datafile2 = np.load(path_to_external_drive+lists[i], allow_pickle=True)\n",
    "    avg = []\n",
    "    for j in range(len(datafile2)):\n",
    "        avg.append(np.average(datafile2[j], axis=0))\n",
    "    avg_2 = np.average(avg,axis=0)\n",
    "    print(temperatures[i],\"C: \", np.sum(avg_2))\n",
    "    SASA_2M.append(np.sum(avg_2))"
   ]
  },
  {
   "cell_type": "code",
   "execution_count": 7,
   "id": "b9e8976a",
   "metadata": {},
   "outputs": [
    {
     "name": "stdout",
     "output_type": "stream",
     "text": [
      "10 C:  326.914\n",
      "20 C:  323.0553\n",
      "30 C:  319.4594\n",
      "40 C:  316.03574\n",
      "50 C:  311.6948\n"
     ]
    }
   ],
   "source": [
    "lists = [\"SASA_data_files/SASA_3M_run13_unbound.npy\",\n",
    "         \"SASA_data_files/SASA_3M_run14_unbound.npy\",\n",
    "         \"SASA_data_files/SASA_3M_run15_unbound.npy\",\n",
    "         \"SASA_data_files/SASA_3M_run30_unbound.npy\",\n",
    "         \"SASA_data_files/SASA_3M_run31_unbound.npy\"]\n",
    "SASA_3M=[]\n",
    "for i in range(len(lists)):\n",
    "    datafile2 = np.load(path_to_external_drive+lists[i], allow_pickle=True)\n",
    "    avg = []\n",
    "    for j in range(len(datafile2)):\n",
    "        avg.append(np.average(datafile2[j], axis=0))\n",
    "    avg_2 = np.average(avg,axis=0)\n",
    "    print(temperatures[i],\"C: \", np.sum(avg_2))\n",
    "    SASA_3M.append(np.sum(avg_2))"
   ]
  },
  {
   "cell_type": "code",
   "execution_count": 8,
   "id": "af3eb068",
   "metadata": {},
   "outputs": [
    {
     "name": "stdout",
     "output_type": "stream",
     "text": [
      "10 C:  326.60925\n",
      "20 C:  323.5565\n",
      "30 C:  319.8791\n",
      "40 C:  315.9101\n",
      "50 C:  312.49194\n"
     ]
    }
   ],
   "source": [
    "lists = [\"SASA_data_files/SASA_4M_run21_unbound.npy\",\n",
    "         \"SASA_data_files/SASA_4M_run22_unbound.npy\",\n",
    "         \"SASA_data_files/SASA_4M_run23_unbound.npy\",\n",
    "         \"SASA_data_files/SASA_4M_run34_unbound.npy\",\n",
    "         \"SASA_data_files/SASA_4M_run35_unbound.npy\"]\n",
    "SASA_4M=[]\n",
    "for i in range(len(lists)):\n",
    "    datafile2 = np.load(path_to_external_drive+lists[i], allow_pickle=True)\n",
    "    avg = []\n",
    "    for j in range(len(datafile2)):\n",
    "        avg.append(np.average(datafile2[j], axis=0))\n",
    "    avg_2 = np.average(avg,axis=0)\n",
    "    print(temperatures[i],\"C: \", np.sum(avg_2))\n",
    "    SASA_4M.append(np.sum(avg_2))"
   ]
  },
  {
   "cell_type": "code",
   "execution_count": 9,
   "id": "31cd4069",
   "metadata": {},
   "outputs": [],
   "source": [
    "SASA_values = np.array([SASA_1M,SASA_2M,SASA_3M,SASA_4M])\n",
    "np.save(\"total_SASA_values_per_system/total_SASA_values.npy\",SASA_values) # save the total SASA values"
   ]
  }
 ],
 "metadata": {
  "kernelspec": {
   "display_name": "Python 3 (ipykernel)",
   "language": "python",
   "name": "python3"
  },
  "language_info": {
   "codemirror_mode": {
    "name": "ipython",
    "version": 3
   },
   "file_extension": ".py",
   "mimetype": "text/x-python",
   "name": "python",
   "nbconvert_exporter": "python",
   "pygments_lexer": "ipython3",
   "version": "3.9.7"
  }
 },
 "nbformat": 4,
 "nbformat_minor": 5
}
