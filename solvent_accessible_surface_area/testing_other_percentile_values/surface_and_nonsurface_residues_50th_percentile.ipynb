{
 "cells": [
  {
   "cell_type": "markdown",
   "id": "e5ac6739",
   "metadata": {},
   "source": [
    "This script will take the average of the SASA values per atom per trajectory, find the surface exposed residues, and save them into a numpy file. Then, it will save the non-surface residues into a numpy file. The non-surface residues are any residues that don't show up in the surface exposed residue list. "
   ]
  },
  {
   "cell_type": "code",
   "execution_count": 1,
   "id": "08b1d3f3",
   "metadata": {},
   "outputs": [
    {
     "data": {
      "text/plain": [
       "'/Users/shahlosolieva/Desktop/BGA_manuscript/solvent_accessible_surface_area/testing_other_percentile_values'"
      ]
     },
     "execution_count": 1,
     "metadata": {},
     "output_type": "execute_result"
    }
   ],
   "source": [
    "pwd"
   ]
  },
  {
   "cell_type": "code",
   "execution_count": 2,
   "id": "5b611da2",
   "metadata": {},
   "outputs": [],
   "source": [
    "path_to_external_drive = \"../../../../../../Volumes/Passport_for_Mac/files_from_owlsnest_May16_2022/p16925/curating_dataset/SASA_calculations_May15_2022/\""
   ]
  },
  {
   "cell_type": "code",
   "execution_count": 3,
   "id": "095d5a70",
   "metadata": {},
   "outputs": [],
   "source": [
    "import numpy as np\n",
    "import matplotlib.pyplot as plt\n",
    "import mdtraj as md"
   ]
  },
  {
   "cell_type": "markdown",
   "id": "11f8ac14",
   "metadata": {},
   "source": [
    "### Calculate the average SASA per atom "
   ]
  },
  {
   "cell_type": "markdown",
   "id": "775dc8e5",
   "metadata": {},
   "source": [
    "The percentile_value serves as the cutoff for defining surface vs nonsurface residues"
   ]
  },
  {
   "cell_type": "code",
   "execution_count": 4,
   "id": "f2e07a3f",
   "metadata": {},
   "outputs": [],
   "source": [
    "percentile_value = 50"
   ]
  },
  {
   "cell_type": "markdown",
   "id": "d106008f",
   "metadata": {},
   "source": [
    "Define the paths for the SASA data:"
   ]
  },
  {
   "cell_type": "code",
   "execution_count": 5,
   "id": "c7c714ab",
   "metadata": {},
   "outputs": [],
   "source": [
    "lists1M=[\"SASA_data_files/SASA_1M_run5_unbound.npy\",\n",
    "         \"SASA_data_files/SASA_1M_run6_unbound.npy\",\n",
    "         \"SASA_data_files/SASA_1M_run7_unbound.npy\",\n",
    "         \"SASA_data_files/SASA_1M_run26_unbound.npy\",\n",
    "         \"SASA_data_files/SASA_1M_run27_unbound.npy\"]\n",
    "lists2M=[\"SASA_data_files/SASA_2M_run5_unbound.npy\",\n",
    "         \"SASA_data_files/SASA_2M_run6_unbound.npy\",\n",
    "         \"SASA_data_files/SASA_2M_run7_unbound.npy\",\n",
    "         \"SASA_data_files/SASA_2M_run38_unbound.npy\",\n",
    "         \"SASA_data_files/SASA_2M_run39_unbound.npy\"]\n",
    "lists3M=[\"SASA_data_files/SASA_3M_run13_unbound.npy\",\n",
    "         \"SASA_data_files/SASA_3M_run14_unbound.npy\",\n",
    "         \"SASA_data_files/SASA_3M_run15_unbound.npy\",\n",
    "         \"SASA_data_files/SASA_3M_run30_unbound.npy\",\n",
    "         \"SASA_data_files/SASA_3M_run31_unbound.npy\"]\n",
    "lists4M=[\"SASA_data_files/SASA_4M_run21_unbound.npy\",\n",
    "         \"SASA_data_files/SASA_4M_run22_unbound.npy\",\n",
    "         \"SASA_data_files/SASA_4M_run23_unbound.npy\",\n",
    "         \"SASA_data_files/SASA_4M_run34_unbound.npy\",\n",
    "         \"SASA_data_files/SASA_4M_run35_unbound.npy\"]\n",
    "lists = lists1M+lists2M+lists3M+lists4M"
   ]
  },
  {
   "cell_type": "markdown",
   "id": "d0a50e45",
   "metadata": {},
   "source": [
    "Calculate the average SASA per atom "
   ]
  },
  {
   "cell_type": "code",
   "execution_count": 6,
   "id": "4fc7e494",
   "metadata": {},
   "outputs": [],
   "source": [
    "list_of_averages_atom = []\n",
    "for i in range(len(lists)):\n",
    "    datafile2 = np.load(path_to_external_drive+lists[i], allow_pickle=True)\n",
    "    avg = []\n",
    "    for j in range(len(datafile2)):\n",
    "        avg.append(np.average(datafile2[j], axis=0))\n",
    "    avg_2 = np.average(avg,axis=0)\n",
    "    list_of_averages_atom.append(avg_2)"
   ]
  },
  {
   "cell_type": "code",
   "execution_count": 7,
   "id": "60d396a2",
   "metadata": {},
   "outputs": [
    {
     "name": "stdout",
     "output_type": "stream",
     "text": [
      "50 percentile has a SASA value of 0.004310661228373647\n"
     ]
    },
    {
     "data": {
      "image/png": "[encoded data removed]",
      "text/plain": [
       "<Figure size 432x288 with 1 Axes>"
      ]
     },
     "metadata": {
      "needs_background": "light"
     },
     "output_type": "display_data"
    }
   ],
   "source": [
    "# example plot of the SASA value per atom, this is the system with 1M and 10C\n",
    "plt.plot(list_of_averages_atom[0])\n",
    "plt.ylabel(\"SASA $\\mathregular{(nm)^2}$\",fontsize=12)\n",
    "plt.xlabel(\"atom number\",fontsize=12)\n",
    "plt.axhline(np.percentile(list_of_averages_atom[0], percentile_value), color=\"red\", label=\"%dth percentile\"%percentile_value)\n",
    "plt.legend(fontsize=12)\n",
    "print(\"%d percentile has a SASA value of\"%percentile_value, np.percentile(list_of_averages_atom[0], percentile_value))"
   ]
  },
  {
   "cell_type": "markdown",
   "id": "86b07015",
   "metadata": {},
   "source": [
    "### Find the atoms that have a SASA value equal to or greater than a certain value. This certain value is defined here as being the nth percentile of the average SASA per atom values, where n = percentile_value"
   ]
  },
  {
   "cell_type": "markdown",
   "id": "32730d3e",
   "metadata": {},
   "source": [
    "Here are the cutoff values for each molarity and temperature: "
   ]
  },
  {
   "cell_type": "code",
   "execution_count": 8,
   "id": "85148a5c",
   "metadata": {},
   "outputs": [
    {
     "name": "stdout",
     "output_type": "stream",
     "text": [
      "the 50th percentile of the SASA data is:\n",
      "SASA_data_files/SASA_1M_run5_unbound.npy 0.004310661228373647\n",
      "SASA_data_files/SASA_1M_run6_unbound.npy 0.004658044781535864\n",
      "SASA_data_files/SASA_1M_run7_unbound.npy 0.004680346930399537\n",
      "SASA_data_files/SASA_1M_run26_unbound.npy 0.004778450354933739\n",
      "SASA_data_files/SASA_1M_run27_unbound.npy 0.004812983796000481\n",
      "SASA_data_files/SASA_2M_run5_unbound.npy 0.005744584137573838\n",
      "SASA_data_files/SASA_2M_run6_unbound.npy 0.00581498141400516\n",
      "SASA_data_files/SASA_2M_run7_unbound.npy 0.005809471243992448\n",
      "SASA_data_files/SASA_2M_run38_unbound.npy 0.005761334672570229\n",
      "SASA_data_files/SASA_2M_run39_unbound.npy 0.005688040982931852\n",
      "SASA_data_files/SASA_3M_run13_unbound.npy 0.005531619768589735\n",
      "SASA_data_files/SASA_3M_run14_unbound.npy 0.005568888038396835\n",
      "SASA_data_files/SASA_3M_run15_unbound.npy 0.005651078186929226\n",
      "SASA_data_files/SASA_3M_run30_unbound.npy 0.005633803550153971\n",
      "SASA_data_files/SASA_3M_run31_unbound.npy 0.005609656684100628\n",
      "SASA_data_files/SASA_4M_run21_unbound.npy 0.0051057792734354734\n",
      "SASA_data_files/SASA_4M_run22_unbound.npy 0.005115622654557228\n",
      "SASA_data_files/SASA_4M_run23_unbound.npy 0.0050990290474146605\n",
      "SASA_data_files/SASA_4M_run34_unbound.npy 0.0050559984520077705\n",
      "SASA_data_files/SASA_4M_run35_unbound.npy 0.005033224355429411\n"
     ]
    }
   ],
   "source": [
    "print(\"the %dth percentile of the SASA data is:\"%percentile_value)\n",
    "for i in range(len(list_of_averages_atom)):\n",
    "    print(lists[i], np.percentile(list_of_averages_atom[i], percentile_value))"
   ]
  },
  {
   "cell_type": "markdown",
   "id": "0f76afbc",
   "metadata": {},
   "source": [
    "For each set, find the atoms that have a SASA value >= to the respective cutoff and save them to the list atom_lists"
   ]
  },
  {
   "cell_type": "code",
   "execution_count": 9,
   "id": "8ee3d27e",
   "metadata": {},
   "outputs": [],
   "source": [
    "atoms_lists = []\n",
    "for i in range(len(list_of_averages_atom)):\n",
    "    atoms_list = []\n",
    "    for j in range(len(list_of_averages_atom[i])):\n",
    "        if list_of_averages_atom[i][j] >= np.percentile(list_of_averages_atom[i], percentile_value):\n",
    "            atoms_list.append(j)\n",
    "    atoms_lists.append(atoms_list)"
   ]
  },
  {
   "cell_type": "markdown",
   "id": "df08a50f",
   "metadata": {},
   "source": [
    "For each set, this is how many atoms were found to have a SASA value >= the cutoff value:"
   ]
  },
  {
   "cell_type": "code",
   "execution_count": 10,
   "id": "ae5a2ab3",
   "metadata": {},
   "outputs": [
    {
     "name": "stdout",
     "output_type": "stream",
     "text": [
      "number of atoms for each set that have a SASA value >= the cutoff value:\n",
      "SASA_data_files/SASA_1M_run5_unbound.npy 5280\n",
      "SASA_data_files/SASA_1M_run6_unbound.npy 5280\n",
      "SASA_data_files/SASA_1M_run7_unbound.npy 5280\n",
      "SASA_data_files/SASA_1M_run26_unbound.npy 5280\n",
      "SASA_data_files/SASA_1M_run27_unbound.npy 5280\n",
      "SASA_data_files/SASA_2M_run5_unbound.npy 5280\n",
      "SASA_data_files/SASA_2M_run6_unbound.npy 5280\n",
      "SASA_data_files/SASA_2M_run7_unbound.npy 5280\n",
      "SASA_data_files/SASA_2M_run38_unbound.npy 5280\n",
      "SASA_data_files/SASA_2M_run39_unbound.npy 5280\n",
      "SASA_data_files/SASA_3M_run13_unbound.npy 5280\n",
      "SASA_data_files/SASA_3M_run14_unbound.npy 5280\n",
      "SASA_data_files/SASA_3M_run15_unbound.npy 5280\n",
      "SASA_data_files/SASA_3M_run30_unbound.npy 5280\n",
      "SASA_data_files/SASA_3M_run31_unbound.npy 5280\n",
      "SASA_data_files/SASA_4M_run21_unbound.npy 5280\n",
      "SASA_data_files/SASA_4M_run22_unbound.npy 5280\n",
      "SASA_data_files/SASA_4M_run23_unbound.npy 5280\n",
      "SASA_data_files/SASA_4M_run34_unbound.npy 5280\n",
      "SASA_data_files/SASA_4M_run35_unbound.npy 5280\n"
     ]
    }
   ],
   "source": [
    "print(\"number of atoms for each set that have a SASA value >= the cutoff value:\")\n",
    "for i in range(len(atoms_lists)):\n",
    "    print(lists[i], len(atoms_lists[i]))"
   ]
  },
  {
   "cell_type": "markdown",
   "id": "89f69840",
   "metadata": {},
   "source": [
    "### Find which residues these atoms belong to"
   ]
  },
  {
   "cell_type": "markdown",
   "id": "9510019b",
   "metadata": {},
   "source": [
    "Import a structure file from any of the sets "
   ]
  },
  {
   "cell_type": "code",
   "execution_count": 12,
   "id": "e866ebe3",
   "metadata": {},
   "outputs": [],
   "source": [
    "top = md.load(\"../../example_files/p16925-r27-c0.gro\")"
   ]
  },
  {
   "cell_type": "markdown",
   "id": "c7dd6e95",
   "metadata": {},
   "source": [
    "Select all of the atoms in the protein:"
   ]
  },
  {
   "cell_type": "code",
   "execution_count": 13,
   "id": "a973c8ca",
   "metadata": {},
   "outputs": [],
   "source": [
    "atom_indices = top.topology.select(\"residue 1 to 700\") # the protein has 700 residues"
   ]
  },
  {
   "cell_type": "markdown",
   "id": "bfb5f283",
   "metadata": {},
   "source": [
    "Find the residues that the atoms belong to:"
   ]
  },
  {
   "cell_type": "code",
   "execution_count": 14,
   "id": "6dce6eb9",
   "metadata": {},
   "outputs": [
    {
     "name": "stdout",
     "output_type": "stream",
     "text": [
      "number of surface residues for each set: \n",
      "SASA_data_files/SASA_1M_run5_unbound.npy 637\n",
      "SASA_data_files/SASA_1M_run6_unbound.npy 635\n",
      "SASA_data_files/SASA_1M_run7_unbound.npy 628\n",
      "SASA_data_files/SASA_1M_run26_unbound.npy 622\n",
      "SASA_data_files/SASA_1M_run27_unbound.npy 624\n",
      "SASA_data_files/SASA_2M_run5_unbound.npy 643\n",
      "SASA_data_files/SASA_2M_run6_unbound.npy 644\n",
      "SASA_data_files/SASA_2M_run7_unbound.npy 639\n",
      "SASA_data_files/SASA_2M_run38_unbound.npy 639\n",
      "SASA_data_files/SASA_2M_run39_unbound.npy 638\n",
      "SASA_data_files/SASA_3M_run13_unbound.npy 645\n",
      "SASA_data_files/SASA_3M_run14_unbound.npy 640\n",
      "SASA_data_files/SASA_3M_run15_unbound.npy 637\n",
      "SASA_data_files/SASA_3M_run30_unbound.npy 635\n",
      "SASA_data_files/SASA_3M_run31_unbound.npy 632\n",
      "SASA_data_files/SASA_4M_run21_unbound.npy 644\n",
      "SASA_data_files/SASA_4M_run22_unbound.npy 644\n",
      "SASA_data_files/SASA_4M_run23_unbound.npy 641\n",
      "SASA_data_files/SASA_4M_run34_unbound.npy 637\n",
      "SASA_data_files/SASA_4M_run35_unbound.npy 631\n"
     ]
    },
    {
     "name": "stderr",
     "output_type": "stream",
     "text": [
      "/opt/anaconda3/lib/python3.9/site-packages/numpy/core/_asarray.py:171: VisibleDeprecationWarning: Creating an ndarray from ragged nested sequences (which is a list-or-tuple of lists-or-tuples-or ndarrays with different lengths or shapes) is deprecated. If you meant to do this, you must specify 'dtype=object' when creating the ndarray.\n",
      "  return array(a, dtype, copy=False, order=order, subok=True)\n"
     ]
    }
   ],
   "source": [
    "res_lists_ = []\n",
    "for i in range(len(atoms_lists)):\n",
    "    res_list = []\n",
    "    for j in range(len(atoms_lists[i])):\n",
    "        res_list.append(str(top.topology.atom(atoms_lists[i][j]).residue)[3:])\n",
    "    res_lists_.append(res_list)\n",
    "    \n",
    "res_lists = []\n",
    "for i in range(len(res_lists_)):\n",
    "    res_lists_int = []\n",
    "    for j in range(len(res_lists_[i])):\n",
    "        res_lists_int.append(int(res_lists_[i][j]))\n",
    "    res_lists.append(np.unique(res_lists_int))\n",
    "\n",
    "print(\"number of surface residues for each set: \")\n",
    "for i in range(len(res_lists)):\n",
    "    print(lists[i],len(res_lists[i]))\n",
    "\n",
    "np.save(\"surface_nonsurface_residues/surface_residues_%dth_percentile.npy\"%percentile_value, res_lists)"
   ]
  },
  {
   "cell_type": "markdown",
   "id": "9145879c",
   "metadata": {},
   "source": [
    "Print the surface residues for the first set as an example: "
   ]
  },
  {
   "cell_type": "code",
   "execution_count": 15,
   "id": "30ecb5d3",
   "metadata": {},
   "outputs": [
    {
     "name": "stdout",
     "output_type": "stream",
     "text": [
      "[1, 2, 3, 6, 7, 8, 10, 11, 12, 13, 14, 15, 16, 17, 18, 19, 20, 22, 23, 25, 26, 27, 28, 29, 30, 31, 35, 36, 37, 38, 39, 40, 41, 42, 43, 44, 45, 46, 47, 48, 49, 50, 51, 52, 53, 54, 55, 56, 58, 59, 60, 62, 63, 64, 65, 66, 67, 71, 73, 75, 76, 77, 78, 79, 80, 81, 82, 83, 84, 85, 86, 87, 88, 89, 90, 91, 92, 93, 94, 95, 96, 97, 98, 99, 100, 101, 102, 103, 104, 105, 106, 107, 108, 109, 110, 111, 112, 114, 115, 116, 117, 118, 119, 122, 123, 124, 125, 126, 127, 128, 129, 130, 131, 132, 133, 134, 135, 137, 141, 142, 143, 144, 145, 146, 147, 148, 149, 150, 151, 152, 153, 154, 155, 156, 157, 158, 159, 161, 162, 163, 165, 166, 167, 168, 169, 170, 171, 172, 173, 175, 176, 177, 178, 179, 180, 181, 182, 183, 184, 185, 186, 187, 188, 189, 190, 191, 192, 193, 194, 195, 196, 197, 198, 199, 200, 201, 202, 203, 204, 205, 206, 207, 208, 209, 211, 212, 213, 214, 215, 217, 218, 219, 220, 221, 222, 223, 224, 225, 226, 227, 228, 229, 230, 231, 232, 233, 234, 235, 236, 237, 238, 241, 242, 243, 244, 245, 246, 247, 248, 249, 250, 251, 253, 254, 256, 257, 258, 259, 260, 261, 262, 264, 265, 266, 267, 268, 270, 271, 272, 273, 274, 275, 276, 277, 278, 279, 280, 281, 282, 283, 284, 285, 286, 287, 288, 289, 290, 291, 292, 293, 295, 296, 297, 298, 299, 300, 301, 302, 303, 304, 305, 306, 307, 308, 309, 312, 313, 315, 316, 317, 318, 319, 320, 321, 322, 323, 324, 325, 326, 327, 328, 329, 330, 332, 333, 334, 335, 336, 337, 338, 339, 340, 341, 342, 343, 344, 345, 350, 351, 352, 353, 354, 355, 356, 357, 358, 359, 360, 361, 362, 363, 364, 367, 368, 369, 370, 371, 372, 373, 374, 375, 376, 377, 378, 379, 381, 382, 384, 385, 386, 387, 388, 389, 390, 391, 392, 393, 394, 395, 396, 397, 398, 399, 403, 404, 405, 406, 407, 409, 410, 411, 412, 413, 414, 415, 416, 417, 418, 419, 420, 421, 422, 423, 424, 425, 426, 427, 428, 429, 430, 431, 432, 433, 435, 436, 437, 438, 439, 440, 441, 442, 443, 444, 445, 446, 447, 448, 449, 450, 451, 452, 453, 454, 456, 459, 461, 462, 463, 464, 465, 466, 467, 468, 469, 470, 471, 472, 473, 474, 475, 476, 477, 478, 479, 480, 481, 482, 483, 484, 485, 487, 488, 489, 490, 491, 492, 493, 494, 495, 496, 497, 498, 499, 500, 501, 502, 503, 504, 505, 506, 507, 508, 509, 510, 511, 512, 513, 514, 515, 516, 517, 518, 519, 520, 521, 522, 523, 524, 525, 526, 527, 528, 529, 530, 531, 532, 533, 534, 535, 536, 537, 538, 539, 540, 541, 542, 543, 544, 545, 546, 547, 548, 549, 550, 551, 553, 554, 555, 556, 557, 558, 559, 560, 561, 562, 563, 564, 565, 566, 567, 568, 569, 570, 571, 572, 573, 574, 575, 576, 577, 578, 579, 580, 581, 582, 583, 584, 585, 586, 587, 588, 589, 591, 594, 595, 596, 597, 598, 599, 601, 602, 603, 605, 606, 607, 609, 610, 611, 612, 613, 614, 615, 616, 617, 618, 619, 620, 621, 622, 623, 624, 625, 626, 627, 628, 629, 630, 631, 632, 633, 634, 635, 636, 637, 638, 639, 640, 641, 642, 643, 644, 645, 646, 647, 648, 649, 650, 651, 652, 653, 654, 655, 656, 657, 658, 659, 660, 661, 662, 663, 664, 665, 666, 667, 668, 669, 670, 671, 672, 673, 674, 675, 676, 677, 678, 679, 680, 681, 682, 683, 684, 685, 686, 687, 688, 689, 690, 691, 692, 693, 694, 695, 696, 697, 698, 699, 700]\n"
     ]
    }
   ],
   "source": [
    "print(list(res_lists[0]))"
   ]
  },
  {
   "cell_type": "markdown",
   "id": "7ae0ed23",
   "metadata": {},
   "source": [
    "### Find which residues are not surface exposed"
   ]
  },
  {
   "cell_type": "markdown",
   "id": "3bc10ec2",
   "metadata": {},
   "source": [
    "If a residue is not in the surface residues list, then it will be counted as a nonsurface residue"
   ]
  },
  {
   "cell_type": "code",
   "execution_count": 16,
   "id": "6dd4227e",
   "metadata": {},
   "outputs": [
    {
     "name": "stdout",
     "output_type": "stream",
     "text": [
      "number of non-surface residues for each set: \n",
      "SASA_data_files/SASA_1M_run5_unbound.npy 63\n",
      "SASA_data_files/SASA_1M_run6_unbound.npy 65\n",
      "SASA_data_files/SASA_1M_run7_unbound.npy 72\n",
      "SASA_data_files/SASA_1M_run26_unbound.npy 78\n",
      "SASA_data_files/SASA_1M_run27_unbound.npy 76\n",
      "SASA_data_files/SASA_2M_run5_unbound.npy 57\n",
      "SASA_data_files/SASA_2M_run6_unbound.npy 56\n",
      "SASA_data_files/SASA_2M_run7_unbound.npy 61\n",
      "SASA_data_files/SASA_2M_run38_unbound.npy 61\n",
      "SASA_data_files/SASA_2M_run39_unbound.npy 62\n",
      "SASA_data_files/SASA_3M_run13_unbound.npy 55\n",
      "SASA_data_files/SASA_3M_run14_unbound.npy 60\n",
      "SASA_data_files/SASA_3M_run15_unbound.npy 63\n",
      "SASA_data_files/SASA_3M_run30_unbound.npy 65\n",
      "SASA_data_files/SASA_3M_run31_unbound.npy 68\n",
      "SASA_data_files/SASA_4M_run21_unbound.npy 56\n",
      "SASA_data_files/SASA_4M_run22_unbound.npy 56\n",
      "SASA_data_files/SASA_4M_run23_unbound.npy 59\n",
      "SASA_data_files/SASA_4M_run34_unbound.npy 63\n",
      "SASA_data_files/SASA_4M_run35_unbound.npy 69\n"
     ]
    }
   ],
   "source": [
    "res_lists_nonsurface = []\n",
    "for j in range(len(res_lists)):\n",
    "    res_b = []\n",
    "    for i in range(1,701):\n",
    "        if i not in res_lists[j]:\n",
    "            res_b.append(i)\n",
    "    res_lists_nonsurface.append(res_b)\n",
    "print(\"number of non-surface residues for each set: \")\n",
    "for i in range(len(res_lists_nonsurface)):\n",
    "    print(lists[i], len(res_lists_nonsurface[i]))\n",
    "np.save(\"surface_nonsurface_residues/nonsurface_residues_%dth_percentile.npy\"%percentile_value, res_lists_nonsurface)"
   ]
  },
  {
   "cell_type": "markdown",
   "id": "359156c3",
   "metadata": {},
   "source": [
    "Print the nonsurface residues for the first set as an example: "
   ]
  },
  {
   "cell_type": "code",
   "execution_count": 17,
   "id": "174b5b67",
   "metadata": {},
   "outputs": [
    {
     "name": "stdout",
     "output_type": "stream",
     "text": [
      "[4, 5, 9, 21, 24, 32, 33, 34, 57, 61, 68, 69, 70, 72, 74, 113, 120, 121, 136, 138, 139, 140, 160, 164, 174, 210, 216, 239, 240, 252, 255, 263, 269, 294, 310, 311, 314, 331, 346, 347, 348, 349, 365, 366, 380, 383, 400, 401, 402, 408, 434, 455, 457, 458, 460, 486, 552, 590, 592, 593, 600, 604, 608]\n"
     ]
    }
   ],
   "source": [
    "print(list(res_lists_nonsurface[0]))"
   ]
  },
  {
   "cell_type": "markdown",
   "id": "f563217c",
   "metadata": {},
   "source": [
    "## Graph the number of surface and nonsurface residues per condition when using this percentile value:"
   ]
  },
  {
   "cell_type": "code",
   "execution_count": 18,
   "id": "c4dbef41",
   "metadata": {},
   "outputs": [],
   "source": [
    "res_lists_nonsurface = res_lists_nonsurface\n",
    "res_lists_surface    = res_lists"
   ]
  },
  {
   "cell_type": "code",
   "execution_count": 19,
   "id": "5099373e",
   "metadata": {},
   "outputs": [],
   "source": [
    "# calculate the number of residues in each list \n",
    "number_of_surface_res = []\n",
    "number_of_nonsurface_res = []\n",
    "for i in range(len(res_lists_surface)):\n",
    "    number_of_surface_res.append(len(res_lists_surface[i]))\n",
    "    number_of_nonsurface_res.append(len(res_lists_nonsurface[i]))"
   ]
  },
  {
   "cell_type": "code",
   "execution_count": 20,
   "id": "a5b23c22",
   "metadata": {},
   "outputs": [],
   "source": [
    "# split the lists into their respective conditions to make graphing easier\n",
    "number_of_surface_res_1M    = number_of_surface_res[0:5]\n",
    "number_of_nonsurface_res_1M = number_of_nonsurface_res[0:5]\n",
    "\n",
    "number_of_surface_res_2M    = number_of_surface_res[5:10]\n",
    "number_of_nonsurface_res_2M = number_of_nonsurface_res[5:10]\n",
    "\n",
    "number_of_surface_res_3M    = number_of_surface_res[10:15]\n",
    "number_of_nonsurface_res_3M = number_of_nonsurface_res[10:15]\n",
    "\n",
    "number_of_surface_res_4M    = number_of_surface_res[15:20]\n",
    "number_of_nonsurface_res_4M = number_of_nonsurface_res[15:20]"
   ]
  },
  {
   "cell_type": "code",
   "execution_count": 21,
   "id": "6b7c7197",
   "metadata": {},
   "outputs": [
    {
     "data": {
      "image/png": "[encoded data removed]",
      "text/plain": [
       "<Figure size 576x864 with 4 Axes>"
      ]
     },
     "metadata": {
      "needs_background": "light"
     },
     "output_type": "display_data"
    }
   ],
   "source": [
    "surface    = [number_of_surface_res_1M,number_of_surface_res_2M,number_of_surface_res_3M,number_of_surface_res_4M]\n",
    "nonsurface = [number_of_nonsurface_res_1M,number_of_nonsurface_res_2M,number_of_nonsurface_res_3M,number_of_nonsurface_res_4M]\n",
    "x = [\"10\",\"20\",\"30\",\"40\",\"50\"]\n",
    "molarities=[\"1 M KCl\",\"2 M KCl\",\"3 M KCl\",\"4 M KCl\"]\n",
    "    \n",
    "fig, axs = plt.subplots(4, figsize=[8,12])\n",
    "plt.rcParams['font.size'] = '16'\n",
    "for i in range(4):\n",
    "    y1 = nonsurface[i]\n",
    "    y2 = surface[i]\n",
    "    axs[i].bar(x, y1, alpha = 0.5,  color = \"C3\", label=\"nonsurface residues\")\n",
    "    axs[i].bar(x, y2, bottom=y1, alpha=0.5, color='C0', label=\"surface residues\")\n",
    "    axs[i].legend(loc='center left', bbox_to_anchor=(1, 0.5), fontsize=14)\n",
    "    axs[i].tick_params(axis=\"both\", labelsize=14)\n",
    "    axs[i].set_ylabel(\"number of residues\",fontsize=16)\n",
    "    axs[i].set_title(\"%s\"%molarities[i])\n",
    "axs[3].set_xlabel(\"temperature ($^\\circ$C)\",fontsize=16)\n",
    "fig.tight_layout()\n",
    "fig.savefig(\"graphs/number_of_surface_nonsurface_residues_%dth_percentile.png\"%percentile_value)"
   ]
  }
 ],
 "metadata": {
  "kernelspec": {
   "display_name": "Python 3 (ipykernel)",
   "language": "python",
   "name": "python3"
  },
  "language_info": {
   "codemirror_mode": {
    "name": "ipython",
    "version": 3
   },
   "file_extension": ".py",
   "mimetype": "text/x-python",
   "name": "python",
   "nbconvert_exporter": "python",
   "pygments_lexer": "ipython3",
   "version": "3.9.7"
  }
 },
 "nbformat": 4,
 "nbformat_minor": 5
}
