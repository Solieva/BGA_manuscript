{
 "cells": [
  {
   "cell_type": "markdown",
   "id": "e5ac6739",
   "metadata": {},
   "source": [
    "This script will take the average of the SASA values per atom per trajectory, find the surface exposed residues, and save them into a numpy file. Then, it will save the non-surface residues into a numpy file. The non-surface residues are any residues that don't show up in the surface exposed residue list. "
   ]
  },
  {
   "cell_type": "code",
   "execution_count": 1,
   "id": "08b1d3f3",
   "metadata": {},
   "outputs": [
    {
     "data": {
      "text/plain": [
       "'/Users/shahlosolieva/Desktop/BGA_manuscript/solvent_accessible_surface_area/testing_other_percentile_values'"
      ]
     },
     "execution_count": 1,
     "metadata": {},
     "output_type": "execute_result"
    }
   ],
   "source": [
    "pwd"
   ]
  },
  {
   "cell_type": "code",
   "execution_count": 2,
   "id": "5b611da2",
   "metadata": {},
   "outputs": [],
   "source": [
    "path_to_external_drive = \"../../../../../../Volumes/Passport_for_Mac/files_from_owlsnest_May16_2022/p16925/curating_dataset/SASA_calculations_May15_2022/\""
   ]
  },
  {
   "cell_type": "code",
   "execution_count": 3,
   "id": "095d5a70",
   "metadata": {},
   "outputs": [],
   "source": [
    "import numpy as np\n",
    "import matplotlib.pyplot as plt\n",
    "import mdtraj as md"
   ]
  },
  {
   "cell_type": "markdown",
   "id": "11f8ac14",
   "metadata": {},
   "source": [
    "### Calculate the average SASA per atom "
   ]
  },
  {
   "cell_type": "markdown",
   "id": "775dc8e5",
   "metadata": {},
   "source": [
    "The percentile_value serves as the cutoff for defining surface vs nonsurface residues"
   ]
  },
  {
   "cell_type": "code",
   "execution_count": 4,
   "id": "f2e07a3f",
   "metadata": {},
   "outputs": [],
   "source": [
    "percentile_value = 90"
   ]
  },
  {
   "cell_type": "markdown",
   "id": "d106008f",
   "metadata": {},
   "source": [
    "Define the paths for the SASA data:"
   ]
  },
  {
   "cell_type": "code",
   "execution_count": 5,
   "id": "c7c714ab",
   "metadata": {},
   "outputs": [],
   "source": [
    "lists1M=[\"SASA_data_files/SASA_1M_run5_unbound.npy\",\n",
    "         \"SASA_data_files/SASA_1M_run6_unbound.npy\",\n",
    "         \"SASA_data_files/SASA_1M_run7_unbound.npy\",\n",
    "         \"SASA_data_files/SASA_1M_run26_unbound.npy\",\n",
    "         \"SASA_data_files/SASA_1M_run27_unbound.npy\"]\n",
    "lists2M=[\"SASA_data_files/SASA_2M_run5_unbound.npy\",\n",
    "         \"SASA_data_files/SASA_2M_run6_unbound.npy\",\n",
    "         \"SASA_data_files/SASA_2M_run7_unbound.npy\",\n",
    "         \"SASA_data_files/SASA_2M_run38_unbound.npy\",\n",
    "         \"SASA_data_files/SASA_2M_run39_unbound.npy\"]\n",
    "lists3M=[\"SASA_data_files/SASA_3M_run13_unbound.npy\",\n",
    "         \"SASA_data_files/SASA_3M_run14_unbound.npy\",\n",
    "         \"SASA_data_files/SASA_3M_run15_unbound.npy\",\n",
    "         \"SASA_data_files/SASA_3M_run30_unbound.npy\",\n",
    "         \"SASA_data_files/SASA_3M_run31_unbound.npy\"]\n",
    "lists4M=[\"SASA_data_files/SASA_4M_run21_unbound.npy\",\n",
    "         \"SASA_data_files/SASA_4M_run22_unbound.npy\",\n",
    "         \"SASA_data_files/SASA_4M_run23_unbound.npy\",\n",
    "         \"SASA_data_files/SASA_4M_run34_unbound.npy\",\n",
    "         \"SASA_data_files/SASA_4M_run35_unbound.npy\"]\n",
    "lists = lists1M+lists2M+lists3M+lists4M"
   ]
  },
  {
   "cell_type": "markdown",
   "id": "d0a50e45",
   "metadata": {},
   "source": [
    "Calculate the average SASA per atom "
   ]
  },
  {
   "cell_type": "code",
   "execution_count": 6,
   "id": "4fc7e494",
   "metadata": {},
   "outputs": [],
   "source": [
    "list_of_averages_atom = []\n",
    "for i in range(len(lists)):\n",
    "    datafile2 = np.load(path_to_external_drive+lists[i], allow_pickle=True)\n",
    "    avg = []\n",
    "    for j in range(len(datafile2)):\n",
    "        avg.append(np.average(datafile2[j], axis=0))\n",
    "    avg_2 = np.average(avg,axis=0)\n",
    "    list_of_averages_atom.append(avg_2)"
   ]
  },
  {
   "cell_type": "code",
   "execution_count": 7,
   "id": "60d396a2",
   "metadata": {},
   "outputs": [
    {
     "name": "stdout",
     "output_type": "stream",
     "text": [
      "90 percentile has a SASA value of 0.09835844412446026\n"
     ]
    },
    {
     "data": {
      "image/png": "[encoded data removed]",
      "text/plain": [
       "<Figure size 432x288 with 1 Axes>"
      ]
     },
     "metadata": {
      "needs_background": "light"
     },
     "output_type": "display_data"
    }
   ],
   "source": [
    "# example plot of the SASA value per atom, this is the system with 1M and 10C\n",
    "plt.plot(list_of_averages_atom[0])\n",
    "plt.ylabel(\"SASA $\\mathregular{(nm)^2}$\",fontsize=12)\n",
    "plt.xlabel(\"atom number\",fontsize=12)\n",
    "plt.axhline(np.percentile(list_of_averages_atom[0], percentile_value), color=\"red\", label=\"%dth percentile\"%percentile_value)\n",
    "plt.legend(fontsize=12)\n",
    "print(\"%d percentile has a SASA value of\"%percentile_value, np.percentile(list_of_averages_atom[0], percentile_value))"
   ]
  },
  {
   "cell_type": "markdown",
   "id": "86b07015",
   "metadata": {},
   "source": [
    "### Find the atoms that have a SASA value equal to or greater than a certain value. This certain value is defined here as being the nth percentile of the average SASA per atom values, where n = percentile_value"
   ]
  },
  {
   "cell_type": "markdown",
   "id": "32730d3e",
   "metadata": {},
   "source": [
    "Here are the cutoff values for each molarity and temperature: "
   ]
  },
  {
   "cell_type": "code",
   "execution_count": 8,
   "id": "85148a5c",
   "metadata": {},
   "outputs": [
    {
     "name": "stdout",
     "output_type": "stream",
     "text": [
      "the 90th percentile of the SASA data is:\n",
      "SASA_data_files/SASA_1M_run5_unbound.npy 0.09835844412446026\n",
      "SASA_data_files/SASA_1M_run6_unbound.npy 0.09813617616891865\n",
      "SASA_data_files/SASA_1M_run7_unbound.npy 0.09655885919928552\n",
      "SASA_data_files/SASA_1M_run26_unbound.npy 0.09479137286543853\n",
      "SASA_data_files/SASA_1M_run27_unbound.npy 0.09371147602796555\n",
      "SASA_data_files/SASA_2M_run5_unbound.npy 0.09769583940505983\n",
      "SASA_data_files/SASA_2M_run6_unbound.npy 0.09663688167929653\n",
      "SASA_data_files/SASA_2M_run7_unbound.npy 0.0952123887836934\n",
      "SASA_data_files/SASA_2M_run38_unbound.npy 0.09439799413084986\n",
      "SASA_data_files/SASA_2M_run39_unbound.npy 0.09316280856728557\n",
      "SASA_data_files/SASA_3M_run13_unbound.npy 0.09673614129424096\n",
      "SASA_data_files/SASA_3M_run14_unbound.npy 0.09545844644308091\n",
      "SASA_data_files/SASA_3M_run15_unbound.npy 0.09404031559824944\n",
      "SASA_data_files/SASA_3M_run30_unbound.npy 0.09344049766659739\n",
      "SASA_data_files/SASA_3M_run31_unbound.npy 0.09214766398072244\n",
      "SASA_data_files/SASA_4M_run21_unbound.npy 0.09828185588121414\n",
      "SASA_data_files/SASA_4M_run22_unbound.npy 0.09617364257574082\n",
      "SASA_data_files/SASA_4M_run23_unbound.npy 0.09509887024760251\n",
      "SASA_data_files/SASA_4M_run34_unbound.npy 0.09389526546001445\n",
      "SASA_data_files/SASA_4M_run35_unbound.npy 0.0921110190451146\n"
     ]
    }
   ],
   "source": [
    "print(\"the %dth percentile of the SASA data is:\"%percentile_value)\n",
    "for i in range(len(list_of_averages_atom)):\n",
    "    print(lists[i], np.percentile(list_of_averages_atom[i], percentile_value))"
   ]
  },
  {
   "cell_type": "markdown",
   "id": "0f76afbc",
   "metadata": {},
   "source": [
    "For each set, find the atoms that have a SASA value >= to the respective cutoff and save them to the list atom_lists"
   ]
  },
  {
   "cell_type": "code",
   "execution_count": 9,
   "id": "8ee3d27e",
   "metadata": {},
   "outputs": [],
   "source": [
    "atoms_lists = []\n",
    "for i in range(len(list_of_averages_atom)):\n",
    "    atoms_list = []\n",
    "    for j in range(len(list_of_averages_atom[i])):\n",
    "        if list_of_averages_atom[i][j] >= np.percentile(list_of_averages_atom[i], percentile_value):\n",
    "            atoms_list.append(j)\n",
    "    atoms_lists.append(atoms_list)"
   ]
  },
  {
   "cell_type": "markdown",
   "id": "df08a50f",
   "metadata": {},
   "source": [
    "For each set, this is how many atoms were found to have a SASA value >= the cutoff value:"
   ]
  },
  {
   "cell_type": "code",
   "execution_count": 10,
   "id": "ae5a2ab3",
   "metadata": {},
   "outputs": [
    {
     "name": "stdout",
     "output_type": "stream",
     "text": [
      "number of atoms for each set that have a SASA value >= the cutoff value:\n",
      "SASA_data_files/SASA_1M_run5_unbound.npy 1056\n",
      "SASA_data_files/SASA_1M_run6_unbound.npy 1056\n",
      "SASA_data_files/SASA_1M_run7_unbound.npy 1056\n",
      "SASA_data_files/SASA_1M_run26_unbound.npy 1056\n",
      "SASA_data_files/SASA_1M_run27_unbound.npy 1056\n",
      "SASA_data_files/SASA_2M_run5_unbound.npy 1056\n",
      "SASA_data_files/SASA_2M_run6_unbound.npy 1056\n",
      "SASA_data_files/SASA_2M_run7_unbound.npy 1056\n",
      "SASA_data_files/SASA_2M_run38_unbound.npy 1056\n",
      "SASA_data_files/SASA_2M_run39_unbound.npy 1056\n",
      "SASA_data_files/SASA_3M_run13_unbound.npy 1056\n",
      "SASA_data_files/SASA_3M_run14_unbound.npy 1056\n",
      "SASA_data_files/SASA_3M_run15_unbound.npy 1056\n",
      "SASA_data_files/SASA_3M_run30_unbound.npy 1056\n",
      "SASA_data_files/SASA_3M_run31_unbound.npy 1056\n",
      "SASA_data_files/SASA_4M_run21_unbound.npy 1056\n",
      "SASA_data_files/SASA_4M_run22_unbound.npy 1056\n",
      "SASA_data_files/SASA_4M_run23_unbound.npy 1056\n",
      "SASA_data_files/SASA_4M_run34_unbound.npy 1056\n",
      "SASA_data_files/SASA_4M_run35_unbound.npy 1056\n"
     ]
    }
   ],
   "source": [
    "print(\"number of atoms for each set that have a SASA value >= the cutoff value:\")\n",
    "for i in range(len(atoms_lists)):\n",
    "    print(lists[i], len(atoms_lists[i]))"
   ]
  },
  {
   "cell_type": "markdown",
   "id": "89f69840",
   "metadata": {},
   "source": [
    "### Find which residues these atoms belong to"
   ]
  },
  {
   "cell_type": "markdown",
   "id": "9510019b",
   "metadata": {},
   "source": [
    "Import a structure file from any of the sets "
   ]
  },
  {
   "cell_type": "code",
   "execution_count": 12,
   "id": "e866ebe3",
   "metadata": {},
   "outputs": [],
   "source": [
    "top = md.load(\"../../example_files/p16925-r27-c0.gro\")"
   ]
  },
  {
   "cell_type": "markdown",
   "id": "c7dd6e95",
   "metadata": {},
   "source": [
    "Select all of the atoms in the protein:"
   ]
  },
  {
   "cell_type": "code",
   "execution_count": 13,
   "id": "a973c8ca",
   "metadata": {},
   "outputs": [],
   "source": [
    "atom_indices = top.topology.select(\"residue 1 to 700\") # the protein has 700 residues"
   ]
  },
  {
   "cell_type": "markdown",
   "id": "bfb5f283",
   "metadata": {},
   "source": [
    "Find the residues that the atoms belong to:"
   ]
  },
  {
   "cell_type": "code",
   "execution_count": 14,
   "id": "6dce6eb9",
   "metadata": {},
   "outputs": [
    {
     "name": "stdout",
     "output_type": "stream",
     "text": [
      "number of surface residues for each set: \n",
      "SASA_data_files/SASA_1M_run5_unbound.npy 327\n",
      "SASA_data_files/SASA_1M_run6_unbound.npy 325\n",
      "SASA_data_files/SASA_1M_run7_unbound.npy 325\n",
      "SASA_data_files/SASA_1M_run26_unbound.npy 327\n",
      "SASA_data_files/SASA_1M_run27_unbound.npy 330\n",
      "SASA_data_files/SASA_2M_run5_unbound.npy 324\n",
      "SASA_data_files/SASA_2M_run6_unbound.npy 331\n",
      "SASA_data_files/SASA_2M_run7_unbound.npy 330\n",
      "SASA_data_files/SASA_2M_run38_unbound.npy 332\n",
      "SASA_data_files/SASA_2M_run39_unbound.npy 333\n",
      "SASA_data_files/SASA_3M_run13_unbound.npy 334\n",
      "SASA_data_files/SASA_3M_run14_unbound.npy 333\n",
      "SASA_data_files/SASA_3M_run15_unbound.npy 335\n",
      "SASA_data_files/SASA_3M_run30_unbound.npy 330\n",
      "SASA_data_files/SASA_3M_run31_unbound.npy 333\n",
      "SASA_data_files/SASA_4M_run21_unbound.npy 324\n",
      "SASA_data_files/SASA_4M_run22_unbound.npy 328\n",
      "SASA_data_files/SASA_4M_run23_unbound.npy 326\n",
      "SASA_data_files/SASA_4M_run34_unbound.npy 330\n",
      "SASA_data_files/SASA_4M_run35_unbound.npy 328\n"
     ]
    },
    {
     "name": "stderr",
     "output_type": "stream",
     "text": [
      "/opt/anaconda3/lib/python3.9/site-packages/numpy/core/_asarray.py:171: VisibleDeprecationWarning: Creating an ndarray from ragged nested sequences (which is a list-or-tuple of lists-or-tuples-or ndarrays with different lengths or shapes) is deprecated. If you meant to do this, you must specify 'dtype=object' when creating the ndarray.\n",
      "  return array(a, dtype, copy=False, order=order, subok=True)\n"
     ]
    }
   ],
   "source": [
    "res_lists_ = []\n",
    "for i in range(len(atoms_lists)):\n",
    "    res_list = []\n",
    "    for j in range(len(atoms_lists[i])):\n",
    "        res_list.append(str(top.topology.atom(atoms_lists[i][j]).residue)[3:])\n",
    "    res_lists_.append(res_list)\n",
    "    \n",
    "res_lists = []\n",
    "for i in range(len(res_lists_)):\n",
    "    res_lists_int = []\n",
    "    for j in range(len(res_lists_[i])):\n",
    "        res_lists_int.append(int(res_lists_[i][j]))\n",
    "    res_lists.append(np.unique(res_lists_int))\n",
    "\n",
    "print(\"number of surface residues for each set: \")\n",
    "for i in range(len(res_lists)):\n",
    "    print(lists[i],len(res_lists[i]))\n",
    "\n",
    "np.save(\"surface_nonsurface_residues/surface_residues_%dth_percentile.npy\"%percentile_value, res_lists)"
   ]
  },
  {
   "cell_type": "markdown",
   "id": "9145879c",
   "metadata": {},
   "source": [
    "Print the surface residues for the first set as an example: "
   ]
  },
  {
   "cell_type": "code",
   "execution_count": 15,
   "id": "30ecb5d3",
   "metadata": {},
   "outputs": [
    {
     "name": "stdout",
     "output_type": "stream",
     "text": [
      "[1, 2, 10, 11, 12, 13, 14, 15, 16, 18, 19, 25, 26, 28, 30, 37, 40, 44, 45, 46, 47, 48, 49, 50, 52, 53, 55, 56, 59, 62, 63, 64, 65, 67, 79, 80, 83, 84, 85, 86, 87, 89, 91, 92, 93, 94, 95, 96, 97, 98, 99, 100, 101, 102, 103, 111, 115, 119, 122, 123, 126, 127, 130, 132, 142, 146, 147, 150, 152, 154, 155, 158, 161, 162, 163, 166, 167, 169, 170, 172, 173, 176, 181, 182, 183, 184, 185, 186, 187, 188, 189, 190, 191, 192, 194, 198, 199, 200, 201, 202, 204, 217, 221, 224, 228, 231, 232, 233, 234, 235, 236, 237, 245, 248, 251, 253, 254, 256, 257, 258, 259, 260, 261, 273, 274, 275, 276, 277, 278, 279, 282, 283, 286, 305, 306, 307, 319, 320, 322, 323, 324, 325, 326, 329, 345, 350, 355, 356, 357, 358, 359, 360, 361, 362, 367, 368, 370, 372, 373, 375, 377, 378, 382, 385, 387, 388, 389, 391, 392, 394, 397, 399, 407, 413, 415, 416, 417, 419, 420, 422, 429, 432, 436, 437, 438, 445, 446, 447, 448, 449, 451, 452, 453, 454, 465, 466, 467, 470, 473, 474, 475, 476, 477, 478, 479, 492, 493, 496, 497, 499, 500, 501, 505, 507, 508, 511, 515, 516, 517, 518, 519, 521, 522, 523, 524, 525, 526, 527, 528, 529, 530, 531, 532, 533, 534, 536, 537, 538, 539, 540, 541, 542, 544, 554, 556, 557, 558, 559, 560, 561, 562, 563, 567, 569, 570, 571, 572, 573, 574, 581, 582, 583, 584, 585, 587, 597, 598, 601, 606, 609, 610, 611, 612, 614, 615, 617, 618, 619, 621, 627, 629, 630, 631, 632, 633, 640, 641, 642, 643, 648, 650, 651, 652, 654, 655, 657, 658, 659, 660, 661, 662, 663, 665, 667, 668, 669, 670, 671, 672, 673, 674, 675, 676, 677, 681, 688, 690, 691, 692, 693, 694, 695, 696, 697, 698, 699, 700]\n"
     ]
    }
   ],
   "source": [
    "print(list(res_lists[0]))"
   ]
  },
  {
   "cell_type": "markdown",
   "id": "7ae0ed23",
   "metadata": {},
   "source": [
    "### Find which residues are not surface exposed"
   ]
  },
  {
   "cell_type": "markdown",
   "id": "3bc10ec2",
   "metadata": {},
   "source": [
    "If a residue is not in the surface residues list, then it will be counted as a nonsurface residue"
   ]
  },
  {
   "cell_type": "code",
   "execution_count": 16,
   "id": "6dd4227e",
   "metadata": {},
   "outputs": [
    {
     "name": "stdout",
     "output_type": "stream",
     "text": [
      "number of non-surface residues for each set: \n",
      "SASA_data_files/SASA_1M_run5_unbound.npy 373\n",
      "SASA_data_files/SASA_1M_run6_unbound.npy 375\n",
      "SASA_data_files/SASA_1M_run7_unbound.npy 375\n",
      "SASA_data_files/SASA_1M_run26_unbound.npy 373\n",
      "SASA_data_files/SASA_1M_run27_unbound.npy 370\n",
      "SASA_data_files/SASA_2M_run5_unbound.npy 376\n",
      "SASA_data_files/SASA_2M_run6_unbound.npy 369\n",
      "SASA_data_files/SASA_2M_run7_unbound.npy 370\n",
      "SASA_data_files/SASA_2M_run38_unbound.npy 368\n",
      "SASA_data_files/SASA_2M_run39_unbound.npy 367\n",
      "SASA_data_files/SASA_3M_run13_unbound.npy 366\n",
      "SASA_data_files/SASA_3M_run14_unbound.npy 367\n",
      "SASA_data_files/SASA_3M_run15_unbound.npy 365\n",
      "SASA_data_files/SASA_3M_run30_unbound.npy 370\n",
      "SASA_data_files/SASA_3M_run31_unbound.npy 367\n",
      "SASA_data_files/SASA_4M_run21_unbound.npy 376\n",
      "SASA_data_files/SASA_4M_run22_unbound.npy 372\n",
      "SASA_data_files/SASA_4M_run23_unbound.npy 374\n",
      "SASA_data_files/SASA_4M_run34_unbound.npy 370\n",
      "SASA_data_files/SASA_4M_run35_unbound.npy 372\n"
     ]
    }
   ],
   "source": [
    "res_lists_nonsurface = []\n",
    "for j in range(len(res_lists)):\n",
    "    res_b = []\n",
    "    for i in range(1,701):\n",
    "        if i not in res_lists[j]:\n",
    "            res_b.append(i)\n",
    "    res_lists_nonsurface.append(res_b)\n",
    "print(\"number of non-surface residues for each set: \")\n",
    "for i in range(len(res_lists_nonsurface)):\n",
    "    print(lists[i], len(res_lists_nonsurface[i]))\n",
    "np.save(\"surface_nonsurface_residues/nonsurface_residues_%dth_percentile.npy\"%percentile_value, res_lists_nonsurface)"
   ]
  },
  {
   "cell_type": "markdown",
   "id": "359156c3",
   "metadata": {},
   "source": [
    "Print the nonsurface residues for the first set as an example: "
   ]
  },
  {
   "cell_type": "code",
   "execution_count": 17,
   "id": "174b5b67",
   "metadata": {},
   "outputs": [
    {
     "name": "stdout",
     "output_type": "stream",
     "text": [
      "[3, 4, 5, 6, 7, 8, 9, 17, 20, 21, 22, 23, 24, 27, 29, 31, 32, 33, 34, 35, 36, 38, 39, 41, 42, 43, 51, 54, 57, 58, 60, 61, 66, 68, 69, 70, 71, 72, 73, 74, 75, 76, 77, 78, 81, 82, 88, 90, 104, 105, 106, 107, 108, 109, 110, 112, 113, 114, 116, 117, 118, 120, 121, 124, 125, 128, 129, 131, 133, 134, 135, 136, 137, 138, 139, 140, 141, 143, 144, 145, 148, 149, 151, 153, 156, 157, 159, 160, 164, 165, 168, 171, 174, 175, 177, 178, 179, 180, 193, 195, 196, 197, 203, 205, 206, 207, 208, 209, 210, 211, 212, 213, 214, 215, 216, 218, 219, 220, 222, 223, 225, 226, 227, 229, 230, 238, 239, 240, 241, 242, 243, 244, 246, 247, 249, 250, 252, 255, 262, 263, 264, 265, 266, 267, 268, 269, 270, 271, 272, 280, 281, 284, 285, 287, 288, 289, 290, 291, 292, 293, 294, 295, 296, 297, 298, 299, 300, 301, 302, 303, 304, 308, 309, 310, 311, 312, 313, 314, 315, 316, 317, 318, 321, 327, 328, 330, 331, 332, 333, 334, 335, 336, 337, 338, 339, 340, 341, 342, 343, 344, 346, 347, 348, 349, 351, 352, 353, 354, 363, 364, 365, 366, 369, 371, 374, 376, 379, 380, 381, 383, 384, 386, 390, 393, 395, 396, 398, 400, 401, 402, 403, 404, 405, 406, 408, 409, 410, 411, 412, 414, 418, 421, 423, 424, 425, 426, 427, 428, 430, 431, 433, 434, 435, 439, 440, 441, 442, 443, 444, 450, 455, 456, 457, 458, 459, 460, 461, 462, 463, 464, 468, 469, 471, 472, 480, 481, 482, 483, 484, 485, 486, 487, 488, 489, 490, 491, 494, 495, 498, 502, 503, 504, 506, 509, 510, 512, 513, 514, 520, 535, 543, 545, 546, 547, 548, 549, 550, 551, 552, 553, 555, 564, 565, 566, 568, 575, 576, 577, 578, 579, 580, 586, 588, 589, 590, 591, 592, 593, 594, 595, 596, 599, 600, 602, 603, 604, 605, 607, 608, 613, 616, 620, 622, 623, 624, 625, 626, 628, 634, 635, 636, 637, 638, 639, 644, 645, 646, 647, 649, 653, 656, 664, 666, 678, 679, 680, 682, 683, 684, 685, 686, 687, 689]\n"
     ]
    }
   ],
   "source": [
    "print(list(res_lists_nonsurface[0]))"
   ]
  },
  {
   "cell_type": "markdown",
   "id": "f563217c",
   "metadata": {},
   "source": [
    "## Graph the number of surface and nonsurface residues per condition when using this percentile value:"
   ]
  },
  {
   "cell_type": "code",
   "execution_count": 18,
   "id": "c4dbef41",
   "metadata": {},
   "outputs": [],
   "source": [
    "res_lists_nonsurface = res_lists_nonsurface\n",
    "res_lists_surface    = res_lists"
   ]
  },
  {
   "cell_type": "code",
   "execution_count": 19,
   "id": "5099373e",
   "metadata": {},
   "outputs": [],
   "source": [
    "# calculate the number of residues in each list \n",
    "number_of_surface_res = []\n",
    "number_of_nonsurface_res = []\n",
    "for i in range(len(res_lists_surface)):\n",
    "    number_of_surface_res.append(len(res_lists_surface[i]))\n",
    "    number_of_nonsurface_res.append(len(res_lists_nonsurface[i]))"
   ]
  },
  {
   "cell_type": "code",
   "execution_count": 20,
   "id": "a5b23c22",
   "metadata": {},
   "outputs": [],
   "source": [
    "# split the lists into their respective conditions to make graphing easier\n",
    "number_of_surface_res_1M    = number_of_surface_res[0:5]\n",
    "number_of_nonsurface_res_1M = number_of_nonsurface_res[0:5]\n",
    "\n",
    "number_of_surface_res_2M    = number_of_surface_res[5:10]\n",
    "number_of_nonsurface_res_2M = number_of_nonsurface_res[5:10]\n",
    "\n",
    "number_of_surface_res_3M    = number_of_surface_res[10:15]\n",
    "number_of_nonsurface_res_3M = number_of_nonsurface_res[10:15]\n",
    "\n",
    "number_of_surface_res_4M    = number_of_surface_res[15:20]\n",
    "number_of_nonsurface_res_4M = number_of_nonsurface_res[15:20]"
   ]
  },
  {
   "cell_type": "code",
   "execution_count": 21,
   "id": "6b7c7197",
   "metadata": {},
   "outputs": [
    {
     "data": {
      "image/png": "[encoded data removed]",
      "text/plain": [
       "<Figure size 576x864 with 4 Axes>"
      ]
     },
     "metadata": {
      "needs_background": "light"
     },
     "output_type": "display_data"
    }
   ],
   "source": [
    "surface    = [number_of_surface_res_1M,number_of_surface_res_2M,number_of_surface_res_3M,number_of_surface_res_4M]\n",
    "nonsurface = [number_of_nonsurface_res_1M,number_of_nonsurface_res_2M,number_of_nonsurface_res_3M,number_of_nonsurface_res_4M]\n",
    "x = [\"10\",\"20\",\"30\",\"40\",\"50\"]\n",
    "molarities=[\"1 M KCl\",\"2 M KCl\",\"3 M KCl\",\"4 M KCl\"]\n",
    "    \n",
    "fig, axs = plt.subplots(4, figsize=[8,12])\n",
    "plt.rcParams['font.size'] = '16'\n",
    "for i in range(4):\n",
    "    y1 = nonsurface[i]\n",
    "    y2 = surface[i]\n",
    "    axs[i].bar(x, y1, alpha = 0.5,  color = \"C3\", label=\"nonsurface residues\")\n",
    "    axs[i].bar(x, y2, bottom=y1, alpha=0.5, color='C0', label=\"surface residues\")\n",
    "    axs[i].legend(loc='center left', bbox_to_anchor=(1, 0.5), fontsize=14)\n",
    "    axs[i].tick_params(axis=\"both\", labelsize=14)\n",
    "    axs[i].set_ylabel(\"number of residues\",fontsize=16)\n",
    "    axs[i].set_title(\"%s\"%molarities[i])\n",
    "axs[3].set_xlabel(\"temperature ($^\\circ$C)\",fontsize=16)\n",
    "fig.tight_layout()\n",
    "fig.savefig(\"graphs/number_of_surface_nonsurface_residues_%dth_percentile.png\"%percentile_value)"
   ]
  }
 ],
 "metadata": {
  "kernelspec": {
   "display_name": "Python 3 (ipykernel)",
   "language": "python",
   "name": "python3"
  },
  "language_info": {
   "codemirror_mode": {
    "name": "ipython",
    "version": 3
   },
   "file_extension": ".py",
   "mimetype": "text/x-python",
   "name": "python",
   "nbconvert_exporter": "python",
   "pygments_lexer": "ipython3",
   "version": "3.9.7"
  }
 },
 "nbformat": 4,
 "nbformat_minor": 5
}
