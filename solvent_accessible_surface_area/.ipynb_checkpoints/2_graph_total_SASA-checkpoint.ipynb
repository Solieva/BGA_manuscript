{
 "cells": [
  {
   "cell_type": "code",
   "execution_count": 1,
   "id": "0abb2025",
   "metadata": {},
   "outputs": [
    {
     "data": {
      "text/plain": [
       "'/Users/shahlosolieva/Desktop/BGA_manuscript/solvent_accessible_surface_area'"
      ]
     },
     "execution_count": 1,
     "metadata": {},
     "output_type": "execute_result"
    }
   ],
   "source": [
    "pwd"
   ]
  },
  {
   "cell_type": "code",
   "execution_count": 2,
   "id": "53adf6e9",
   "metadata": {},
   "outputs": [],
   "source": [
    "import numpy as np\n",
    "import matplotlib.pyplot as plt"
   ]
  },
  {
   "cell_type": "markdown",
   "id": "1c6540a0",
   "metadata": {},
   "source": [
    "### Import total SASA values calculated in the previous notebook (1_calculate_total_SASA.ipynb)"
   ]
  },
  {
   "cell_type": "code",
   "execution_count": 5,
   "id": "dd3c53a9",
   "metadata": {},
   "outputs": [],
   "source": [
    "SASA_values = np.load(\"total_SASA_values_per_system/total_SASA_values.npy\",allow_pickle=True)"
   ]
  },
  {
   "cell_type": "code",
   "execution_count": 6,
   "id": "cc56d1ef",
   "metadata": {},
   "outputs": [
    {
     "name": "stdout",
     "output_type": "stream",
     "text": [
      "[[318.18628 316.92847 315.01578 313.1018  311.53473]\n",
      " [328.5409  325.4398  321.70926 318.89368 315.42462]\n",
      " [326.914   323.0553  319.4594  316.03574 311.6948 ]\n",
      " [326.60925 323.5565  319.8791  315.9101  312.49194]]\n"
     ]
    }
   ],
   "source": [
    "print(SASA_values)"
   ]
  },
  {
   "cell_type": "markdown",
   "id": "27cac89c",
   "metadata": {},
   "source": [
    "SASA_values is a 4x5 matrix, where the columns are temperatures ranging from 10-50 C and the rows are molarities ranging from 1-4 M KCl"
   ]
  },
  {
   "cell_type": "code",
   "execution_count": 9,
   "id": "095bad9c",
   "metadata": {},
   "outputs": [
    {
     "data": {
      "image/png": "[encoded data removed]",
      "text/plain": [
       "<Figure size 504x288 with 1 Axes>"
      ]
     },
     "metadata": {
      "needs_background": "light"
     },
     "output_type": "display_data"
    }
   ],
   "source": [
    "plt.figure(figsize=[7,4])\n",
    "\n",
    "barWidth = 0.16\n",
    "y1 = [SASA_values[0][0],SASA_values[1][0],SASA_values[2][0],SASA_values[3][0]]\n",
    "y2 = [SASA_values[0][1],SASA_values[1][1],SASA_values[2][1],SASA_values[3][1]]\n",
    "y3 = [SASA_values[0][2],SASA_values[1][2],SASA_values[2][2],SASA_values[3][2]]\n",
    "y4 = [SASA_values[0][3],SASA_values[1][3],SASA_values[2][3],SASA_values[3][3]]\n",
    "y5 = [SASA_values[0][4],SASA_values[1][4],SASA_values[2][4],SASA_values[3][4]]\n",
    "\n",
    "# Set position of the bars on the X axis\n",
    "x1 = np.arange(4)\n",
    "x2 = [x + barWidth for x in x1]\n",
    "x3 = [x + barWidth for x in x2]\n",
    "x4 = [x + barWidth for x in x3]\n",
    "x5 = [x + barWidth for x in x4]\n",
    "\n",
    "plt.bar(x1, y1, alpha = 0.5,  color = \"C0\", width = barWidth,edgecolor ='k', label ='10$^\\circ$C')\n",
    "plt.bar(x2, y2, alpha = 0.5,  color = \"lightskyblue\", width = barWidth, edgecolor ='k', label ='20$^\\circ$C')\n",
    "plt.bar(x3, y3,  alpha = 0.5, color = \"pink\", width = barWidth, edgecolor ='k', label ='30$^\\circ$C')\n",
    "plt.bar(x4, y4,  alpha = 0.5, color = \"lightcoral\", width = barWidth, edgecolor ='k', label ='40$^\\circ$C')\n",
    "plt.bar(x5, y5,  alpha = 0.5, color = \"C3\", width = barWidth, edgecolor ='k', label ='50$^\\circ$C')\n",
    "\n",
    "# Adding Xticks and labels\n",
    "plt.xlabel('Molarity (M)', fontsize=16)\n",
    "plt.ylabel('Total SASA $\\mathregular{(nm)^2}$', fontsize=16)\n",
    "plt.xticks([x3[0],x3[1],x3[2],x3[3]],[1,2,3,4], fontsize=14)\n",
    "plt.yticks(fontsize=14)\n",
    "plt.legend(loc='center left', bbox_to_anchor=(1, 0.5), fontsize=16)\n",
    "plt.tight_layout()\n",
    "\n",
    "plt.ylim(300,330)\n",
    "plt.tight_layout()\n",
    "plt.savefig(\"graphs/2_total_SASA.png\")"
   ]
  }
 ],
 "metadata": {
  "kernelspec": {
   "display_name": "Python 3 (ipykernel)",
   "language": "python",
   "name": "python3"
  },
  "language_info": {
   "codemirror_mode": {
    "name": "ipython",
    "version": 3
   },
   "file_extension": ".py",
   "mimetype": "text/x-python",
   "name": "python",
   "nbconvert_exporter": "python",
   "pygments_lexer": "ipython3",
   "version": "3.9.7"
  }
 },
 "nbformat": 4,
 "nbformat_minor": 5
}
