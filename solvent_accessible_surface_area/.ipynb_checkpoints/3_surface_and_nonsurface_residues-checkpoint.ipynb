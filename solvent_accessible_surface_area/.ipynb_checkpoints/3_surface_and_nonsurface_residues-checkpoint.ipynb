{
 "cells": [
  {
   "cell_type": "markdown",
   "id": "e5ac6739",
   "metadata": {},
   "source": [
    "This script will take the average of the SASA values per atom per trajectory, find the surface exposed residues, and save them into a numpy file. Then, it will save the non-surface residues into a numpy file. The non-surface residues are any residues that don't show up in the surface exposed residue list. "
   ]
  },
  {
   "cell_type": "code",
   "execution_count": 1,
   "id": "08b1d3f3",
   "metadata": {},
   "outputs": [
    {
     "data": {
      "text/plain": [
       "'/Users/shahlosolieva/Desktop/BGA_manuscript/solvent_accessible_surface_area'"
      ]
     },
     "execution_count": 1,
     "metadata": {},
     "output_type": "execute_result"
    }
   ],
   "source": [
    "pwd"
   ]
  },
  {
   "cell_type": "code",
   "execution_count": 2,
   "id": "5b611da2",
   "metadata": {},
   "outputs": [],
   "source": [
    "path_to_external_drive = \"../../../../../Volumes/Passport_for_Mac/files_from_owlsnest_May16_2022/p16925/curating_dataset/SASA_calculations_May15_2022/\""
   ]
  },
  {
   "cell_type": "code",
   "execution_count": 3,
   "id": "095d5a70",
   "metadata": {},
   "outputs": [],
   "source": [
    "import numpy as np\n",
    "import matplotlib.pyplot as plt\n",
    "import mdtraj as md"
   ]
  },
  {
   "cell_type": "markdown",
   "id": "11f8ac14",
   "metadata": {},
   "source": [
    "### Calculate the average SASA per atom "
   ]
  },
  {
   "cell_type": "markdown",
   "id": "775dc8e5",
   "metadata": {},
   "source": [
    "The percentile_value serves as the cutoff for defining surface vs nonsurface residues"
   ]
  },
  {
   "cell_type": "code",
   "execution_count": 4,
   "id": "f2e07a3f",
   "metadata": {},
   "outputs": [],
   "source": [
    "percentile_value = 80"
   ]
  },
  {
   "cell_type": "markdown",
   "id": "d106008f",
   "metadata": {},
   "source": [
    "Define the paths for the SASA data:"
   ]
  },
  {
   "cell_type": "code",
   "execution_count": 5,
   "id": "c7c714ab",
   "metadata": {},
   "outputs": [],
   "source": [
    "lists1M=[\"SASA_data_files/SASA_1M_run5_unbound.npy\",\n",
    "         \"SASA_data_files/SASA_1M_run6_unbound.npy\",\n",
    "         \"SASA_data_files/SASA_1M_run7_unbound.npy\",\n",
    "         \"SASA_data_files/SASA_1M_run26_unbound.npy\",\n",
    "         \"SASA_data_files/SASA_1M_run27_unbound.npy\"]\n",
    "lists2M=[\"SASA_data_files/SASA_2M_run5_unbound.npy\",\n",
    "         \"SASA_data_files/SASA_2M_run6_unbound.npy\",\n",
    "         \"SASA_data_files/SASA_2M_run7_unbound.npy\",\n",
    "         \"SASA_data_files/SASA_2M_run38_unbound.npy\",\n",
    "         \"SASA_data_files/SASA_2M_run39_unbound.npy\"]\n",
    "lists3M=[\"SASA_data_files/SASA_3M_run13_unbound.npy\",\n",
    "         \"SASA_data_files/SASA_3M_run14_unbound.npy\",\n",
    "         \"SASA_data_files/SASA_3M_run15_unbound.npy\",\n",
    "         \"SASA_data_files/SASA_3M_run30_unbound.npy\",\n",
    "         \"SASA_data_files/SASA_3M_run31_unbound.npy\"]\n",
    "lists4M=[\"SASA_data_files/SASA_4M_run21_unbound.npy\",\n",
    "         \"SASA_data_files/SASA_4M_run22_unbound.npy\",\n",
    "         \"SASA_data_files/SASA_4M_run23_unbound.npy\",\n",
    "         \"SASA_data_files/SASA_4M_run34_unbound.npy\",\n",
    "         \"SASA_data_files/SASA_4M_run35_unbound.npy\"]\n",
    "lists = lists1M+lists2M+lists3M+lists4M"
   ]
  },
  {
   "cell_type": "markdown",
   "id": "d0a50e45",
   "metadata": {},
   "source": [
    "Calculate the average SASA per atom "
   ]
  },
  {
   "cell_type": "code",
   "execution_count": 6,
   "id": "4fc7e494",
   "metadata": {},
   "outputs": [],
   "source": [
    "list_of_averages_atom = []\n",
    "for i in range(len(lists)):\n",
    "    datafile2 = np.load(path_to_external_drive+lists[i], allow_pickle=True)\n",
    "    avg = []\n",
    "    for j in range(len(datafile2)):\n",
    "        avg.append(np.average(datafile2[j], axis=0))\n",
    "    avg_2 = np.average(avg,axis=0)\n",
    "    list_of_averages_atom.append(avg_2)"
   ]
  },
  {
   "cell_type": "markdown",
   "id": "86b07015",
   "metadata": {},
   "source": [
    "### Find the atoms that have a SASA value equal to or greater than a certain value. This certain value is defined here as being the nth percentile of the average SASA per atom values, where n = percentile_value"
   ]
  },
  {
   "cell_type": "markdown",
   "id": "32730d3e",
   "metadata": {},
   "source": [
    "Here are the cutoff values for each molarity and temperature: "
   ]
  },
  {
   "cell_type": "code",
   "execution_count": 7,
   "id": "85148a5c",
   "metadata": {},
   "outputs": [
    {
     "name": "stdout",
     "output_type": "stream",
     "text": [
      "the 80th percentile of the SASA data is:\n",
      "SASA_data_files/SASA_1M_run5_unbound.npy 0.04806547090411187\n",
      "SASA_data_files/SASA_1M_run6_unbound.npy 0.04818710833787918\n",
      "SASA_data_files/SASA_1M_run7_unbound.npy 0.04808764085173609\n",
      "SASA_data_files/SASA_1M_run26_unbound.npy 0.04800656586885459\n",
      "SASA_data_files/SASA_1M_run27_unbound.npy 0.0481408275663853\n",
      "SASA_data_files/SASA_2M_run5_unbound.npy 0.05060135126113892\n",
      "SASA_data_files/SASA_2M_run6_unbound.npy 0.04987002909183502\n",
      "SASA_data_files/SASA_2M_run7_unbound.npy 0.04960228428244593\n",
      "SASA_data_files/SASA_2M_run38_unbound.npy 0.048651073127985035\n",
      "SASA_data_files/SASA_2M_run39_unbound.npy 0.04858455136418343\n",
      "SASA_data_files/SASA_3M_run13_unbound.npy 0.05073727592825893\n",
      "SASA_data_files/SASA_3M_run14_unbound.npy 0.05035300180315972\n",
      "SASA_data_files/SASA_3M_run15_unbound.npy 0.049541202187538144\n",
      "SASA_data_files/SASA_3M_run30_unbound.npy 0.0491344340145588\n",
      "SASA_data_files/SASA_3M_run31_unbound.npy 0.04790803492069245\n",
      "SASA_data_files/SASA_4M_run21_unbound.npy 0.050347288697958015\n",
      "SASA_data_files/SASA_4M_run22_unbound.npy 0.0501926138997078\n",
      "SASA_data_files/SASA_4M_run23_unbound.npy 0.04968170747160913\n",
      "SASA_data_files/SASA_4M_run34_unbound.npy 0.04930349886417389\n",
      "SASA_data_files/SASA_4M_run35_unbound.npy 0.04905307516455652\n"
     ]
    }
   ],
   "source": [
    "print(\"the %dth percentile of the SASA data is:\"%percentile_value)\n",
    "for i in range(len(list_of_averages_atom)):\n",
    "    print(lists[i], np.percentile(list_of_averages_atom[i], percentile_value))"
   ]
  },
  {
   "cell_type": "markdown",
   "id": "0f76afbc",
   "metadata": {},
   "source": [
    "For each set, find the atoms that have a SASA value >= to the respective cutoff and save them to the list atom_lists"
   ]
  },
  {
   "cell_type": "code",
   "execution_count": 8,
   "id": "8ee3d27e",
   "metadata": {},
   "outputs": [],
   "source": [
    "atoms_lists = []\n",
    "for i in range(len(list_of_averages_atom)):\n",
    "    atoms_list = []\n",
    "    for j in range(len(list_of_averages_atom[i])):\n",
    "        if list_of_averages_atom[i][j] >= np.percentile(list_of_averages_atom[i], percentile_value):\n",
    "            atoms_list.append(j)\n",
    "    atoms_lists.append(atoms_list)"
   ]
  },
  {
   "cell_type": "markdown",
   "id": "df08a50f",
   "metadata": {},
   "source": [
    "For each set, this is how many atoms were found to have a SASA value >= the cutoff value:"
   ]
  },
  {
   "cell_type": "code",
   "execution_count": 9,
   "id": "ae5a2ab3",
   "metadata": {},
   "outputs": [
    {
     "name": "stdout",
     "output_type": "stream",
     "text": [
      "number of atoms for each set that have a SASA value >= the cutoff value:\n",
      "SASA_data_files/SASA_1M_run5_unbound.npy 2112\n",
      "SASA_data_files/SASA_1M_run6_unbound.npy 2112\n",
      "SASA_data_files/SASA_1M_run7_unbound.npy 2112\n",
      "SASA_data_files/SASA_1M_run26_unbound.npy 2112\n",
      "SASA_data_files/SASA_1M_run27_unbound.npy 2112\n",
      "SASA_data_files/SASA_2M_run5_unbound.npy 2112\n",
      "SASA_data_files/SASA_2M_run6_unbound.npy 2112\n",
      "SASA_data_files/SASA_2M_run7_unbound.npy 2112\n",
      "SASA_data_files/SASA_2M_run38_unbound.npy 2112\n",
      "SASA_data_files/SASA_2M_run39_unbound.npy 2112\n",
      "SASA_data_files/SASA_3M_run13_unbound.npy 2112\n",
      "SASA_data_files/SASA_3M_run14_unbound.npy 2112\n",
      "SASA_data_files/SASA_3M_run15_unbound.npy 2112\n",
      "SASA_data_files/SASA_3M_run30_unbound.npy 2112\n",
      "SASA_data_files/SASA_3M_run31_unbound.npy 2112\n",
      "SASA_data_files/SASA_4M_run21_unbound.npy 2112\n",
      "SASA_data_files/SASA_4M_run22_unbound.npy 2112\n",
      "SASA_data_files/SASA_4M_run23_unbound.npy 2112\n",
      "SASA_data_files/SASA_4M_run34_unbound.npy 2112\n",
      "SASA_data_files/SASA_4M_run35_unbound.npy 2112\n"
     ]
    }
   ],
   "source": [
    "print(\"number of atoms for each set that have a SASA value >= the cutoff value:\")\n",
    "for i in range(len(atoms_lists)):\n",
    "    print(lists[i], len(atoms_lists[i]))"
   ]
  },
  {
   "cell_type": "markdown",
   "id": "89f69840",
   "metadata": {},
   "source": [
    "### Find which residues these atoms belong to"
   ]
  },
  {
   "cell_type": "markdown",
   "id": "9510019b",
   "metadata": {},
   "source": [
    "Import a structure file from any of the sets "
   ]
  },
  {
   "cell_type": "code",
   "execution_count": 11,
   "id": "e866ebe3",
   "metadata": {},
   "outputs": [],
   "source": [
    "top = md.load(\"../example_files/p16925-r27-c0.gro\")"
   ]
  },
  {
   "cell_type": "markdown",
   "id": "c7dd6e95",
   "metadata": {},
   "source": [
    "Select all of the atoms in the protein:"
   ]
  },
  {
   "cell_type": "code",
   "execution_count": 12,
   "id": "a973c8ca",
   "metadata": {},
   "outputs": [],
   "source": [
    "atom_indices = top.topology.select(\"residue 1 to 700\") # the protein has 700 residues"
   ]
  },
  {
   "cell_type": "markdown",
   "id": "bfb5f283",
   "metadata": {},
   "source": [
    "Find the residues that the atoms belong to:"
   ]
  },
  {
   "cell_type": "code",
   "execution_count": 15,
   "id": "6dce6eb9",
   "metadata": {},
   "outputs": [
    {
     "name": "stdout",
     "output_type": "stream",
     "text": [
      "number of surface residues for each set: \n",
      "SASA_data_files/SASA_1M_run5_unbound.npy 455\n",
      "SASA_data_files/SASA_1M_run6_unbound.npy 455\n",
      "SASA_data_files/SASA_1M_run7_unbound.npy 454\n",
      "SASA_data_files/SASA_1M_run26_unbound.npy 453\n",
      "SASA_data_files/SASA_1M_run27_unbound.npy 454\n",
      "SASA_data_files/SASA_2M_run5_unbound.npy 450\n",
      "SASA_data_files/SASA_2M_run6_unbound.npy 451\n",
      "SASA_data_files/SASA_2M_run7_unbound.npy 451\n",
      "SASA_data_files/SASA_2M_run38_unbound.npy 447\n",
      "SASA_data_files/SASA_2M_run39_unbound.npy 445\n",
      "SASA_data_files/SASA_3M_run13_unbound.npy 460\n",
      "SASA_data_files/SASA_3M_run14_unbound.npy 458\n",
      "SASA_data_files/SASA_3M_run15_unbound.npy 458\n",
      "SASA_data_files/SASA_3M_run30_unbound.npy 455\n",
      "SASA_data_files/SASA_3M_run31_unbound.npy 453\n",
      "SASA_data_files/SASA_4M_run21_unbound.npy 464\n",
      "SASA_data_files/SASA_4M_run22_unbound.npy 464\n",
      "SASA_data_files/SASA_4M_run23_unbound.npy 460\n",
      "SASA_data_files/SASA_4M_run34_unbound.npy 457\n",
      "SASA_data_files/SASA_4M_run35_unbound.npy 454\n"
     ]
    }
   ],
   "source": [
    "res_lists_ = []\n",
    "for i in range(len(atoms_lists)):\n",
    "    res_list = []\n",
    "    for j in range(len(atoms_lists[i])):\n",
    "        res_list.append(str(top.topology.atom(atoms_lists[i][j]).residue)[3:])\n",
    "    res_lists_.append(res_list)\n",
    "    \n",
    "res_lists = []\n",
    "for i in range(len(res_lists_)):\n",
    "    res_lists_int = []\n",
    "    for j in range(len(res_lists_[i])):\n",
    "        res_lists_int.append(int(res_lists_[i][j]))\n",
    "    res_lists.append(np.unique(res_lists_int))\n",
    "\n",
    "print(\"number of surface residues for each set: \")\n",
    "for i in range(len(res_lists)):\n",
    "    print(lists[i],len(res_lists[i]))\n",
    "\n",
    "np.save(\"surface_nonsurface_residues/surface_residues.npy\", res_lists)"
   ]
  },
  {
   "cell_type": "markdown",
   "id": "9145879c",
   "metadata": {},
   "source": [
    "Print the surface residues for the first set as an example: "
   ]
  },
  {
   "cell_type": "code",
   "execution_count": 16,
   "id": "30ecb5d3",
   "metadata": {},
   "outputs": [
    {
     "name": "stdout",
     "output_type": "stream",
     "text": [
      "[1, 2, 10, 11, 12, 13, 14, 15, 16, 17, 18, 19, 22, 25, 26, 28, 29, 30, 37, 40, 41, 44, 45, 46, 47, 48, 49, 50, 52, 53, 55, 56, 59, 62, 63, 64, 65, 67, 76, 77, 78, 79, 80, 83, 84, 85, 86, 87, 89, 90, 91, 92, 93, 94, 95, 96, 97, 98, 99, 100, 101, 102, 103, 109, 111, 114, 115, 116, 118, 119, 122, 123, 126, 127, 129, 130, 131, 132, 133, 135, 142, 145, 146, 147, 148, 150, 152, 153, 154, 155, 158, 159, 161, 162, 163, 165, 166, 167, 168, 169, 170, 171, 172, 173, 176, 179, 180, 181, 182, 183, 184, 185, 186, 187, 188, 189, 190, 191, 192, 194, 195, 196, 197, 198, 199, 200, 201, 202, 203, 204, 205, 207, 208, 217, 220, 221, 224, 225, 228, 229, 231, 232, 233, 234, 235, 236, 237, 238, 244, 245, 246, 247, 248, 251, 253, 254, 256, 257, 258, 259, 260, 261, 267, 271, 273, 274, 275, 276, 277, 278, 279, 280, 281, 282, 283, 284, 285, 286, 289, 291, 296, 302, 303, 304, 305, 306, 307, 312, 317, 319, 320, 321, 322, 323, 324, 325, 326, 327, 328, 329, 342, 343, 344, 345, 350, 354, 355, 356, 357, 358, 359, 360, 361, 362, 367, 368, 369, 370, 371, 372, 373, 374, 375, 377, 378, 379, 381, 382, 384, 385, 386, 387, 388, 389, 390, 391, 392, 393, 394, 395, 396, 397, 398, 399, 405, 407, 410, 413, 415, 416, 417, 419, 420, 421, 422, 424, 425, 428, 429, 432, 433, 436, 437, 438, 440, 442, 443, 445, 446, 447, 448, 449, 451, 452, 453, 454, 464, 465, 466, 467, 469, 470, 471, 472, 473, 474, 475, 476, 477, 478, 479, 480, 492, 493, 494, 496, 497, 498, 499, 500, 501, 502, 505, 507, 508, 511, 513, 514, 515, 516, 517, 518, 519, 520, 521, 522, 523, 524, 525, 526, 527, 528, 529, 530, 531, 532, 533, 534, 536, 537, 538, 539, 540, 541, 542, 543, 544, 545, 547, 548, 549, 554, 555, 556, 557, 558, 559, 560, 561, 562, 563, 564, 565, 566, 567, 568, 569, 570, 571, 572, 573, 574, 575, 576, 580, 581, 582, 583, 584, 585, 586, 587, 594, 596, 597, 598, 601, 602, 605, 606, 609, 610, 611, 612, 613, 614, 615, 616, 617, 618, 619, 621, 622, 624, 625, 626, 627, 629, 630, 631, 632, 633, 640, 641, 642, 643, 644, 646, 648, 649, 650, 651, 652, 653, 654, 655, 656, 657, 658, 659, 660, 661, 662, 663, 664, 665, 666, 667, 668, 669, 670, 671, 672, 673, 674, 675, 676, 677, 678, 679, 681, 682, 688, 689, 690, 691, 692, 693, 694, 695, 696, 697, 698, 699, 700]\n"
     ]
    }
   ],
   "source": [
    "print(list(res_lists[0]))"
   ]
  },
  {
   "cell_type": "markdown",
   "id": "7ae0ed23",
   "metadata": {},
   "source": [
    "### Find which residues are not surface exposed"
   ]
  },
  {
   "cell_type": "markdown",
   "id": "3bc10ec2",
   "metadata": {},
   "source": [
    "If a residue is not in the surface residues list, then it will be counted as a nonsurface residue"
   ]
  },
  {
   "cell_type": "code",
   "execution_count": 18,
   "id": "6dd4227e",
   "metadata": {},
   "outputs": [
    {
     "name": "stdout",
     "output_type": "stream",
     "text": [
      "number of non-surface residues for each set: \n",
      "SASA_data_files/SASA_1M_run5_unbound.npy 245\n",
      "SASA_data_files/SASA_1M_run6_unbound.npy 245\n",
      "SASA_data_files/SASA_1M_run7_unbound.npy 246\n",
      "SASA_data_files/SASA_1M_run26_unbound.npy 247\n",
      "SASA_data_files/SASA_1M_run27_unbound.npy 246\n",
      "SASA_data_files/SASA_2M_run5_unbound.npy 250\n",
      "SASA_data_files/SASA_2M_run6_unbound.npy 249\n",
      "SASA_data_files/SASA_2M_run7_unbound.npy 249\n",
      "SASA_data_files/SASA_2M_run38_unbound.npy 253\n",
      "SASA_data_files/SASA_2M_run39_unbound.npy 255\n",
      "SASA_data_files/SASA_3M_run13_unbound.npy 240\n",
      "SASA_data_files/SASA_3M_run14_unbound.npy 242\n",
      "SASA_data_files/SASA_3M_run15_unbound.npy 242\n",
      "SASA_data_files/SASA_3M_run30_unbound.npy 245\n",
      "SASA_data_files/SASA_3M_run31_unbound.npy 247\n",
      "SASA_data_files/SASA_4M_run21_unbound.npy 236\n",
      "SASA_data_files/SASA_4M_run22_unbound.npy 236\n",
      "SASA_data_files/SASA_4M_run23_unbound.npy 240\n",
      "SASA_data_files/SASA_4M_run34_unbound.npy 243\n",
      "SASA_data_files/SASA_4M_run35_unbound.npy 246\n"
     ]
    }
   ],
   "source": [
    "res_lists_nonsurface = []\n",
    "for j in range(len(res_lists)):\n",
    "    res_b = []\n",
    "    for i in range(1,701):\n",
    "        if i not in res_lists[j]:\n",
    "            res_b.append(i)\n",
    "    res_lists_nonsurface.append(res_b)\n",
    "print(\"number of non-surface residues for each set: \")\n",
    "for i in range(len(res_lists_nonsurface)):\n",
    "    print(lists[i], len(res_lists_nonsurface[i]))\n",
    "np.save(\"surface_nonsurface_residues/nonsurface_residues.npy\", res_lists_nonsurface)"
   ]
  },
  {
   "cell_type": "markdown",
   "id": "359156c3",
   "metadata": {},
   "source": [
    "Print the nonsurface residues for the first set as an example: "
   ]
  },
  {
   "cell_type": "code",
   "execution_count": 19,
   "id": "174b5b67",
   "metadata": {},
   "outputs": [
    {
     "name": "stdout",
     "output_type": "stream",
     "text": [
      "[3, 4, 5, 6, 7, 8, 9, 20, 21, 23, 24, 27, 31, 32, 33, 34, 35, 36, 38, 39, 42, 43, 51, 54, 57, 58, 60, 61, 66, 68, 69, 70, 71, 72, 73, 74, 75, 81, 82, 88, 104, 105, 106, 107, 108, 110, 112, 113, 117, 120, 121, 124, 125, 128, 134, 136, 137, 138, 139, 140, 141, 143, 144, 149, 151, 156, 157, 160, 164, 174, 175, 177, 178, 193, 206, 209, 210, 211, 212, 213, 214, 215, 216, 218, 219, 222, 223, 226, 227, 230, 239, 240, 241, 242, 243, 249, 250, 252, 255, 262, 263, 264, 265, 266, 268, 269, 270, 272, 287, 288, 290, 292, 293, 294, 295, 297, 298, 299, 300, 301, 308, 309, 310, 311, 313, 314, 315, 316, 318, 330, 331, 332, 333, 334, 335, 336, 337, 338, 339, 340, 341, 346, 347, 348, 349, 351, 352, 353, 363, 364, 365, 366, 376, 380, 383, 400, 401, 402, 403, 404, 406, 408, 409, 411, 412, 414, 418, 423, 426, 427, 430, 431, 434, 435, 439, 441, 444, 450, 455, 456, 457, 458, 459, 460, 461, 462, 463, 468, 481, 482, 483, 484, 485, 486, 487, 488, 489, 490, 491, 495, 503, 504, 506, 509, 510, 512, 535, 546, 550, 551, 552, 553, 577, 578, 579, 588, 589, 590, 591, 592, 593, 595, 599, 600, 603, 604, 607, 608, 620, 623, 628, 634, 635, 636, 637, 638, 639, 645, 647, 680, 683, 684, 685, 686, 687]\n"
     ]
    }
   ],
   "source": [
    "print(list(res_lists_nonsurface[0]))"
   ]
  }
 ],
 "metadata": {
  "kernelspec": {
   "display_name": "Python 3 (ipykernel)",
   "language": "python",
   "name": "python3"
  },
  "language_info": {
   "codemirror_mode": {
    "name": "ipython",
    "version": 3
   },
   "file_extension": ".py",
   "mimetype": "text/x-python",
   "name": "python",
   "nbconvert_exporter": "python",
   "pygments_lexer": "ipython3",
   "version": "3.9.7"
  }
 },
 "nbformat": 4,
 "nbformat_minor": 5
}
