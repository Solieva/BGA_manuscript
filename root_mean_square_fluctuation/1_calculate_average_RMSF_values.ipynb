{
 "cells": [
  {
   "cell_type": "code",
   "execution_count": 1,
   "id": "fbadfd2e",
   "metadata": {},
   "outputs": [
    {
     "data": {
      "text/plain": [
       "'/Users/shahlosolieva/Desktop/BGA_manuscript/root_mean_square_fluctuation'"
      ]
     },
     "execution_count": 1,
     "metadata": {},
     "output_type": "execute_result"
    }
   ],
   "source": [
    "pwd"
   ]
  },
  {
   "cell_type": "code",
   "execution_count": 8,
   "id": "35e97284",
   "metadata": {},
   "outputs": [],
   "source": [
    "path_to_external_drive = \"../../../../../Volumes/Passport_for_Mac/files_from_owlsnest_May16_2022/p16925/curating_dataset/\""
   ]
  },
  {
   "cell_type": "code",
   "execution_count": 9,
   "id": "095d5a70",
   "metadata": {},
   "outputs": [],
   "source": [
    "import numpy as np\n",
    "import matplotlib.pyplot as plt\n",
    "import mdtraj as md"
   ]
  },
  {
   "cell_type": "markdown",
   "id": "07078c3a",
   "metadata": {},
   "source": [
    "### Define path for RMSF data"
   ]
  },
  {
   "cell_type": "code",
   "execution_count": 10,
   "id": "20924aa2",
   "metadata": {},
   "outputs": [],
   "source": [
    "path_for_rmsf=path_to_external_drive+\"rmsf_values/\"\n",
    "\n",
    "lists1M_rmsf =[\"M1_r5_res.npy\",\n",
    "               \"M1_r6_res.npy\",\n",
    "               \"M1_r7_res.npy\",\n",
    "               \"M1_r26_res.npy\",\n",
    "               \"M1_r27_res.npy\"]\n",
    "lists2M_rmsf =[\"M2_r5_res.npy\",\n",
    "               \"M2_r6_res.npy\",\n",
    "               \"M2_r7_res.npy\",\n",
    "               \"M2_r38_res.npy\",\n",
    "               \"M2_r39_res.npy\"]\n",
    "lists3M_rmsf =[\"M3_r13_res.npy\",\n",
    "               \"M3_r14_res.npy\",\n",
    "               \"M3_r15_res.npy\",\n",
    "               \"M3_r30_res.npy\",\n",
    "               \"M3_r31_res.npy\"]\n",
    "lists4M_rmsf =[\"M4_r21_res.npy\",\n",
    "               \"M4_r22_res.npy\",\n",
    "               \"M4_r23_res.npy\",\n",
    "               \"M4_r34_res.npy\",\n",
    "               \"M4_r35_res.npy\"]\n",
    "lists_rmsf = lists1M_rmsf+lists2M_rmsf+lists3M_rmsf+lists4M_rmsf"
   ]
  },
  {
   "cell_type": "markdown",
   "id": "96bf50c9",
   "metadata": {},
   "source": [
    "### For each residue in the protein, find its average RMSF"
   ]
  },
  {
   "cell_type": "code",
   "execution_count": 21,
   "id": "9c39ac15",
   "metadata": {},
   "outputs": [],
   "source": [
    "rmsf_avg_per_res= []\n",
    "rmsf_standard_dev_per_res=[]\n",
    "for i in range(len(lists_rmsf)):\n",
    "    datafile2 = np.load(path_for_rmsf+lists_rmsf[i], allow_pickle=True)[()] # load in data\n",
    "    \n",
    "    p = np.arange(0,700) # all 700 residues\n",
    "    data=[]\n",
    "    for j in p: #for each residue\n",
    "        data.append(list(datafile2[j])) # rmsf is 0 based\n",
    "        \n",
    "    avg_per_res = np.average(data,axis= 1)\n",
    "    standard_dev_per_res = np.std(data,axis= 1)\n",
    "    \n",
    "    rmsf_avg_per_res.append(avg_per_res)\n",
    "    rmsf_standard_dev_per_res.append(standard_dev_per_res)"
   ]
  },
  {
   "cell_type": "code",
   "execution_count": 22,
   "id": "89ce82e1",
   "metadata": {},
   "outputs": [
    {
     "name": "stdout",
     "output_type": "stream",
     "text": [
      "number of sets: 20\n",
      "number of residues: 700\n"
     ]
    }
   ],
   "source": [
    "print(\"number of sets:\", len(rmsf_avg_per_res)) # set = molarity and temperature combination\n",
    "print(\"number of residues:\", len(rmsf_avg_per_res[0])) # protein has 700 residues"
   ]
  },
  {
   "cell_type": "code",
   "execution_count": 23,
   "id": "f8a0a5d7",
   "metadata": {},
   "outputs": [],
   "source": [
    "np.save(\"average_RMSF_per_residue/average_RMSF_per_residue.npy\",rmsf_avg_per_res)\n",
    "np.save(\"average_RMSF_per_residue/standard_dev_RMSF_per_residue.npy\",rmsf_standard_dev_per_res)"
   ]
  },
  {
   "cell_type": "markdown",
   "id": "83c9c4c8",
   "metadata": {},
   "source": [
    "### Calculate the average RMSF for Domain A"
   ]
  },
  {
   "cell_type": "markdown",
   "id": "49624ccc",
   "metadata": {},
   "source": [
    "    Domain A: residues 1-390\n",
    "    Domain B: residues 391-614\n",
    "    Domain C: residues 615-700"
   ]
  },
  {
   "cell_type": "code",
   "execution_count": 59,
   "id": "7744ffbc",
   "metadata": {},
   "outputs": [],
   "source": [
    "rmsf_avg= []\n",
    "rmsf_standard_dev=[]\n",
    "for i in range(len(lists_rmsf)):\n",
    "    datafile2 = np.load(path_for_rmsf+lists_rmsf[i], allow_pickle=True)[()] # load in data\n",
    "    \n",
    "    p = np.arange(1-1,390) # 0-based\n",
    "    data=[]\n",
    "    for j in p: #for each residue\n",
    "        data.append(list(datafile2[j])) # rmsf is 0 based\n",
    "        \n",
    "    avg_per_res = np.average(data,axis= 1)\n",
    "    #standard_dev_per_res = np.std(data,axis= 1)\n",
    "    \n",
    "    rmsf_avg.append(np.average(avg_per_res))\n",
    "    rmsf_standard_dev.append(np.std(avg_per_res))"
   ]
  },
  {
   "cell_type": "code",
   "execution_count": 60,
   "id": "e2963ee3",
   "metadata": {},
   "outputs": [
    {
     "name": "stdout",
     "output_type": "stream",
     "text": [
      "number of sets: 20\n",
      "number of residues: 390\n"
     ]
    }
   ],
   "source": [
    "print(\"number of sets:\", len(rmsf_avg)) # set = molarity and temperature combination\n",
    "print(\"number of residues:\", len(p)) "
   ]
  },
  {
   "cell_type": "code",
   "execution_count": 61,
   "id": "1e958dcc",
   "metadata": {},
   "outputs": [
    {
     "name": "stdout",
     "output_type": "stream",
     "text": [
      "1-based residues: [1, 2, 3, 4, 5, 6, 7, 8, 9, 10, 11, 12, 13, 14, 15, 16, 17, 18, 19, 20, 21, 22, 23, 24, 25, 26, 27, 28, 29, 30, 31, 32, 33, 34, 35, 36, 37, 38, 39, 40, 41, 42, 43, 44, 45, 46, 47, 48, 49, 50, 51, 52, 53, 54, 55, 56, 57, 58, 59, 60, 61, 62, 63, 64, 65, 66, 67, 68, 69, 70, 71, 72, 73, 74, 75, 76, 77, 78, 79, 80, 81, 82, 83, 84, 85, 86, 87, 88, 89, 90, 91, 92, 93, 94, 95, 96, 97, 98, 99, 100, 101, 102, 103, 104, 105, 106, 107, 108, 109, 110, 111, 112, 113, 114, 115, 116, 117, 118, 119, 120, 121, 122, 123, 124, 125, 126, 127, 128, 129, 130, 131, 132, 133, 134, 135, 136, 137, 138, 139, 140, 141, 142, 143, 144, 145, 146, 147, 148, 149, 150, 151, 152, 153, 154, 155, 156, 157, 158, 159, 160, 161, 162, 163, 164, 165, 166, 167, 168, 169, 170, 171, 172, 173, 174, 175, 176, 177, 178, 179, 180, 181, 182, 183, 184, 185, 186, 187, 188, 189, 190, 191, 192, 193, 194, 195, 196, 197, 198, 199, 200, 201, 202, 203, 204, 205, 206, 207, 208, 209, 210, 211, 212, 213, 214, 215, 216, 217, 218, 219, 220, 221, 222, 223, 224, 225, 226, 227, 228, 229, 230, 231, 232, 233, 234, 235, 236, 237, 238, 239, 240, 241, 242, 243, 244, 245, 246, 247, 248, 249, 250, 251, 252, 253, 254, 255, 256, 257, 258, 259, 260, 261, 262, 263, 264, 265, 266, 267, 268, 269, 270, 271, 272, 273, 274, 275, 276, 277, 278, 279, 280, 281, 282, 283, 284, 285, 286, 287, 288, 289, 290, 291, 292, 293, 294, 295, 296, 297, 298, 299, 300, 301, 302, 303, 304, 305, 306, 307, 308, 309, 310, 311, 312, 313, 314, 315, 316, 317, 318, 319, 320, 321, 322, 323, 324, 325, 326, 327, 328, 329, 330, 331, 332, 333, 334, 335, 336, 337, 338, 339, 340, 341, 342, 343, 344, 345, 346, 347, 348, 349, 350, 351, 352, 353, 354, 355, 356, 357, 358, 359, 360, 361, 362, 363, 364, 365, 366, 367, 368, 369, 370, 371, 372, 373, 374, 375, 376, 377, 378, 379, 380, 381, 382, 383, 384, 385, 386, 387, 388, 389, 390]\n"
     ]
    }
   ],
   "source": [
    "print(\"1-based residues:\",list(p+1))"
   ]
  },
  {
   "cell_type": "code",
   "execution_count": 62,
   "id": "7ff54f4b",
   "metadata": {},
   "outputs": [],
   "source": [
    "np.save(\"average_RMSF_per_residue/average_RMSF_Domain_A.npy\",rmsf_avg)\n",
    "np.save(\"average_RMSF_per_residue/standard_dev_RMSF_Domain_A.npy\",rmsf_standard_dev)"
   ]
  },
  {
   "cell_type": "markdown",
   "id": "f1aa6dcb",
   "metadata": {},
   "source": [
    "### Calculate the average RMSF for Domain B"
   ]
  },
  {
   "cell_type": "markdown",
   "id": "9c39c417",
   "metadata": {},
   "source": [
    "    Domain A: residues 1-390\n",
    "    Domain B: residues 391-614\n",
    "    Domain C: residues 615-700"
   ]
  },
  {
   "cell_type": "code",
   "execution_count": 63,
   "id": "d4a24949",
   "metadata": {},
   "outputs": [],
   "source": [
    "rmsf_avg= []\n",
    "rmsf_standard_dev=[]\n",
    "for i in range(len(lists_rmsf)):\n",
    "    datafile2 = np.load(path_for_rmsf+lists_rmsf[i], allow_pickle=True)[()] # load in data\n",
    "    \n",
    "    p = np.arange(391-1,614) # 0-based\n",
    "    data=[]\n",
    "    for j in p: #for each residue\n",
    "        data.append(list(datafile2[j])) # rmsf is 0 based\n",
    "        \n",
    "    avg_per_res = np.average(data,axis= 1)\n",
    "    #standard_dev_per_res = np.std(data,axis= 1)\n",
    "    \n",
    "    rmsf_avg.append(np.average(avg_per_res))\n",
    "    rmsf_standard_dev.append(np.std(avg_per_res))"
   ]
  },
  {
   "cell_type": "code",
   "execution_count": 64,
   "id": "8b3b5deb",
   "metadata": {},
   "outputs": [
    {
     "name": "stdout",
     "output_type": "stream",
     "text": [
      "number of sets: 20\n",
      "number of residues: 224\n"
     ]
    }
   ],
   "source": [
    "print(\"number of sets:\", len(rmsf_avg)) # set = molarity and temperature combination\n",
    "print(\"number of residues:\", len(p)) "
   ]
  },
  {
   "cell_type": "code",
   "execution_count": 65,
   "id": "28927fb1",
   "metadata": {},
   "outputs": [
    {
     "name": "stdout",
     "output_type": "stream",
     "text": [
      "1-based residues: [391, 392, 393, 394, 395, 396, 397, 398, 399, 400, 401, 402, 403, 404, 405, 406, 407, 408, 409, 410, 411, 412, 413, 414, 415, 416, 417, 418, 419, 420, 421, 422, 423, 424, 425, 426, 427, 428, 429, 430, 431, 432, 433, 434, 435, 436, 437, 438, 439, 440, 441, 442, 443, 444, 445, 446, 447, 448, 449, 450, 451, 452, 453, 454, 455, 456, 457, 458, 459, 460, 461, 462, 463, 464, 465, 466, 467, 468, 469, 470, 471, 472, 473, 474, 475, 476, 477, 478, 479, 480, 481, 482, 483, 484, 485, 486, 487, 488, 489, 490, 491, 492, 493, 494, 495, 496, 497, 498, 499, 500, 501, 502, 503, 504, 505, 506, 507, 508, 509, 510, 511, 512, 513, 514, 515, 516, 517, 518, 519, 520, 521, 522, 523, 524, 525, 526, 527, 528, 529, 530, 531, 532, 533, 534, 535, 536, 537, 538, 539, 540, 541, 542, 543, 544, 545, 546, 547, 548, 549, 550, 551, 552, 553, 554, 555, 556, 557, 558, 559, 560, 561, 562, 563, 564, 565, 566, 567, 568, 569, 570, 571, 572, 573, 574, 575, 576, 577, 578, 579, 580, 581, 582, 583, 584, 585, 586, 587, 588, 589, 590, 591, 592, 593, 594, 595, 596, 597, 598, 599, 600, 601, 602, 603, 604, 605, 606, 607, 608, 609, 610, 611, 612, 613, 614]\n"
     ]
    }
   ],
   "source": [
    "print(\"1-based residues:\",list(p+1))"
   ]
  },
  {
   "cell_type": "code",
   "execution_count": 66,
   "id": "2d07fd74",
   "metadata": {},
   "outputs": [],
   "source": [
    "np.save(\"average_RMSF_per_residue/average_RMSF_Domain_B.npy\",rmsf_avg)\n",
    "np.save(\"average_RMSF_per_residue/standard_dev_RMSF_Domain_B.npy\",rmsf_standard_dev)"
   ]
  },
  {
   "cell_type": "markdown",
   "id": "7810067c",
   "metadata": {},
   "source": [
    "### Calculate the average RMSF for Domain C"
   ]
  },
  {
   "cell_type": "markdown",
   "id": "5fca2828",
   "metadata": {},
   "source": [
    "    Domain A: residues 1-390\n",
    "    Domain B: residues 391-614\n",
    "    Domain C: residues 615-700"
   ]
  },
  {
   "cell_type": "code",
   "execution_count": 67,
   "id": "a4aa5934",
   "metadata": {},
   "outputs": [],
   "source": [
    "rmsf_avg= []\n",
    "rmsf_standard_dev=[]\n",
    "for i in range(len(lists_rmsf)):\n",
    "    datafile2 = np.load(path_for_rmsf+lists_rmsf[i], allow_pickle=True)[()] # load in data\n",
    "    \n",
    "    p = np.arange(615-1,700) # 0-based\n",
    "    data=[]\n",
    "    for j in p: #for each residue\n",
    "        data.append(list(datafile2[j])) # rmsf is 0 based\n",
    "        \n",
    "    avg_per_res = np.average(data,axis= 1)\n",
    "    #standard_dev_per_res = np.std(data,axis= 1)\n",
    "    \n",
    "    rmsf_avg.append(np.average(avg_per_res))\n",
    "    rmsf_standard_dev.append(np.std(avg_per_res))"
   ]
  },
  {
   "cell_type": "code",
   "execution_count": 68,
   "id": "3c73afde",
   "metadata": {},
   "outputs": [
    {
     "name": "stdout",
     "output_type": "stream",
     "text": [
      "number of sets: 20\n",
      "number of residues: 86\n"
     ]
    }
   ],
   "source": [
    "print(\"number of sets:\", len(rmsf_avg)) # set = molarity and temperature combination\n",
    "print(\"number of residues:\", len(p)) "
   ]
  },
  {
   "cell_type": "code",
   "execution_count": 69,
   "id": "f97b5bee",
   "metadata": {},
   "outputs": [
    {
     "name": "stdout",
     "output_type": "stream",
     "text": [
      "1-based residues: [615, 616, 617, 618, 619, 620, 621, 622, 623, 624, 625, 626, 627, 628, 629, 630, 631, 632, 633, 634, 635, 636, 637, 638, 639, 640, 641, 642, 643, 644, 645, 646, 647, 648, 649, 650, 651, 652, 653, 654, 655, 656, 657, 658, 659, 660, 661, 662, 663, 664, 665, 666, 667, 668, 669, 670, 671, 672, 673, 674, 675, 676, 677, 678, 679, 680, 681, 682, 683, 684, 685, 686, 687, 688, 689, 690, 691, 692, 693, 694, 695, 696, 697, 698, 699, 700]\n"
     ]
    }
   ],
   "source": [
    "print(\"1-based residues:\",list(p+1))"
   ]
  },
  {
   "cell_type": "code",
   "execution_count": 70,
   "id": "86151a37",
   "metadata": {},
   "outputs": [],
   "source": [
    "np.save(\"average_RMSF_per_residue/average_RMSF_Domain_C.npy\",rmsf_avg)\n",
    "np.save(\"average_RMSF_per_residue/standard_dev_RMSF_Domain_C.npy\",rmsf_standard_dev)"
   ]
  }
 ],
 "metadata": {
  "kernelspec": {
   "display_name": "Python 3 (ipykernel)",
   "language": "python",
   "name": "python3"
  },
  "language_info": {
   "codemirror_mode": {
    "name": "ipython",
    "version": 3
   },
   "file_extension": ".py",
   "mimetype": "text/x-python",
   "name": "python",
   "nbconvert_exporter": "python",
   "pygments_lexer": "ipython3",
   "version": "3.9.7"
  }
 },
 "nbformat": 4,
 "nbformat_minor": 5
}
