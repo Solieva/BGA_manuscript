{
 "cells": [
  {
   "cell_type": "code",
   "execution_count": 1,
   "id": "6f51da25",
   "metadata": {},
   "outputs": [
    {
     "data": {
      "text/plain": [
       "'/Users/shahlosolieva/Desktop/BGA_manuscript/root_mean_square_fluctuation'"
      ]
     },
     "execution_count": 1,
     "metadata": {},
     "output_type": "execute_result"
    }
   ],
   "source": [
    "pwd"
   ]
  },
  {
   "cell_type": "code",
   "execution_count": 3,
   "id": "baf79ce7",
   "metadata": {},
   "outputs": [],
   "source": [
    "path_to_external_drive = \"../../../../../Volumes/Passport_for_Mac/files_from_owlsnest_May16_2022/p16925/curating_dataset/\""
   ]
  },
  {
   "cell_type": "markdown",
   "id": "e5ac6739",
   "metadata": {},
   "source": [
    "This script will take the average of the SASA values per atom per trajectory, find the surface exposed residues, and save them into a numpy file. Then, it will save the non-surface residues into a numpy file. The non-surface residues are any residue that doesn't show up in the surface exposed residue list. "
   ]
  },
  {
   "cell_type": "code",
   "execution_count": 2,
   "id": "095d5a70",
   "metadata": {},
   "outputs": [],
   "source": [
    "import numpy as np\n",
    "import matplotlib.pyplot as plt\n",
    "import mdtraj as md"
   ]
  },
  {
   "cell_type": "markdown",
   "id": "44ee81ee",
   "metadata": {},
   "source": [
    "### Calculate RMSF values of the non-surface and surface residues"
   ]
  },
  {
   "cell_type": "code",
   "execution_count": 4,
   "id": "20924aa2",
   "metadata": {},
   "outputs": [],
   "source": [
    "path_for_rmsf=path_to_external_drive+\"rmsf_values/\"\n",
    "\n",
    "lists1M_rmsf =[\"M1_r5_res.npy\",\n",
    "               \"M1_r6_res.npy\",\n",
    "               \"M1_r7_res.npy\",\n",
    "               \"M1_r26_res.npy\",\n",
    "               \"M1_r27_res.npy\"]\n",
    "lists2M_rmsf =[\"M2_r5_res.npy\",\n",
    "               \"M2_r6_res.npy\",\n",
    "               \"M2_r7_res.npy\",\n",
    "               \"M2_r38_res.npy\",\n",
    "               \"M2_r39_res.npy\"]\n",
    "lists3M_rmsf =[\"M3_r13_res.npy\",\n",
    "               \"M3_r14_res.npy\",\n",
    "               \"M3_r15_res.npy\",\n",
    "               \"M3_r30_res.npy\",\n",
    "               \"M3_r31_res.npy\"]\n",
    "lists4M_rmsf =[\"M4_r21_res.npy\",\n",
    "               \"M4_r22_res.npy\",\n",
    "               \"M4_r23_res.npy\",\n",
    "               \"M4_r34_res.npy\",\n",
    "               \"M4_r35_res.npy\"]\n",
    "lists_rmsf = lists1M_rmsf+lists2M_rmsf+lists3M_rmsf+lists4M_rmsf"
   ]
  },
  {
   "cell_type": "markdown",
   "id": "d5296ef9",
   "metadata": {},
   "source": [
    "Import the lists of surface and nonsurface residues (these lists were created here: BGA_manuscript/solvent_accessible_surface_area/3_surface_and_nonsurface_residues.ipynb"
   ]
  },
  {
   "cell_type": "code",
   "execution_count": 6,
   "id": "c425116c",
   "metadata": {},
   "outputs": [],
   "source": [
    "res_lists_nonsurface = np.load(\"../solvent_accessible_surface_area/surface_nonsurface_residues/nonsurface_residues.npy\", allow_pickle=True)\n",
    "res_lists_surface    = np.load(\"../solvent_accessible_surface_area/surface_nonsurface_residues/surface_residues.npy\", allow_pickle=True)"
   ]
  },
  {
   "cell_type": "code",
   "execution_count": 7,
   "id": "999f0b46",
   "metadata": {},
   "outputs": [],
   "source": [
    "rmsf_surface_avg    = []\n",
    "rmsf_nonsurface_avg = []\n",
    "for i in range(len(lists_rmsf)):\n",
    "    datafile2 = np.load(path_for_rmsf+lists_rmsf[i], allow_pickle=True)[()]\n",
    "    \n",
    "    p = list(res_lists_surface[i]) # surface residues list\n",
    "    data=[]\n",
    "    for j in p: #for each surface residue\n",
    "        data.append(list(datafile2[j-1])) # needs to be i-1 because rmsf is 0 based\n",
    "    avg_per_res = np.average(data,axis= 1)\n",
    "    rmsf_surface_avg.append(np.average(avg_per_res)) # average\n",
    "    \n",
    "    p1 = list(res_lists_nonsurface[i]) # nonsurface residues list\n",
    "    data1=[]\n",
    "    for j in p1: #for each nonsurface residue\n",
    "        data1.append(list(datafile2[j-1]))\n",
    "    avg_per_res1 = np.average(data1,axis= 1)\n",
    "    rmsf_nonsurface_avg.append(np.average(avg_per_res1)) # average"
   ]
  },
  {
   "cell_type": "code",
   "execution_count": 14,
   "id": "c4e60c66",
   "metadata": {},
   "outputs": [
    {
     "name": "stdout",
     "output_type": "stream",
     "text": [
      "nonsurface residue average RMSF: [0.05190255 0.05401081 0.05706912 0.05821197 0.05995039 0.05710992\n",
      " 0.0596791  0.05948105 0.06231038 0.06342682 0.05500381 0.05652644\n",
      " 0.059841   0.06156876 0.06346959 0.05817775 0.060537   0.06207408\n",
      " 0.0634659  0.06546497]\n",
      "surface residue average RMSF: [0.09447218 0.10158692 0.1055487  0.10966    0.11415421 0.10007053\n",
      " 0.10532383 0.10805992 0.11240974 0.11523179 0.10156925 0.10428551\n",
      " 0.10895037 0.11277398 0.1155989  0.09979367 0.10425033 0.10794575\n",
      " 0.1114962  0.11457722]\n"
     ]
    }
   ],
   "source": [
    "print(\"nonsurface residue average RMSF:\", np.array(rmsf_nonsurface_avg))\n",
    "print(\"surface residue average RMSF:\",    np.array(rmsf_surface_avg))"
   ]
  },
  {
   "cell_type": "code",
   "execution_count": 15,
   "id": "748bbd95",
   "metadata": {},
   "outputs": [],
   "source": [
    "# split the rmsf_surface_avg list into molarities  (or lists of 5) so graphing is easier\n",
    "rmsf_nonsurface_avg_1M = rmsf_nonsurface_avg[0:5]\n",
    "rmsf_nonsurface_avg_2M = rmsf_nonsurface_avg[5:10]\n",
    "rmsf_nonsurface_avg_3M = rmsf_nonsurface_avg[10:15]\n",
    "rmsf_nonsurface_avg_4M = rmsf_nonsurface_avg[15:20]\n",
    "\n",
    "rmsf_surface_avg_1M = rmsf_surface_avg[0:5]\n",
    "rmsf_surface_avg_2M = rmsf_surface_avg[5:10]\n",
    "rmsf_surface_avg_3M = rmsf_surface_avg[10:15]\n",
    "rmsf_surface_avg_4M = rmsf_surface_avg[15:20]"
   ]
  },
  {
   "cell_type": "markdown",
   "id": "ca2d74f9",
   "metadata": {},
   "source": [
    "### Graph RMSF values of the non-surface and surface residues"
   ]
  },
  {
   "cell_type": "code",
   "execution_count": 19,
   "id": "38bbd2aa",
   "metadata": {},
   "outputs": [
    {
     "data": {
      "image/png": "[encoded data removed]",
      "text/plain": [
       "<Figure size 504x288 with 1 Axes>"
      ]
     },
     "metadata": {
      "needs_background": "light"
     },
     "output_type": "display_data"
    }
   ],
   "source": [
    "plt.figure(figsize=[7,4])\n",
    "barWidth = 0.18\n",
    "y1 = rmsf_surface_avg_1M\n",
    "y2 = rmsf_surface_avg_2M\n",
    "y3 = rmsf_surface_avg_3M\n",
    "y4 = rmsf_surface_avg_4M\n",
    "\n",
    "# Set position of bar on X axis\n",
    "x1 = np.arange(5)\n",
    "x2 = [x + barWidth for x in x1]\n",
    "x3 = [x + barWidth for x in x2]\n",
    "x4 = [x + barWidth for x in x3]\n",
    "x5 = [x + barWidth for x in x4]\n",
    "\n",
    "# Make the barplot\n",
    "plt.bar(x1, y1, alpha = 0.5,color ='C0', width = barWidth,edgecolor ='k', label ='1 M')\n",
    "plt.bar(x2, y2, alpha = 0.5, color ='C2', width = barWidth, edgecolor ='k', label ='2 M')\n",
    "plt.bar(x3, y3,  alpha = 0.5, color ='C1', width = barWidth, edgecolor ='k', label ='3 M')\n",
    "plt.bar(x4, y4,  alpha = 0.5, color ='C3', width = barWidth, edgecolor ='k', label ='4 M')\n",
    "\n",
    "# Adding Xticks\n",
    "plt.xlabel('Temperature ($^\\circ$C)', fontsize=16)\n",
    "plt.ylabel('Average RMSF (nm)', fontsize=16)\n",
    "plt.xticks([x3[0],x3[1],x3[2],x3[3],x3[4]],[10,20,30,40,50], fontsize=14)\n",
    "plt.legend(loc='center left', bbox_to_anchor=(1, 0.5), fontsize=16)\n",
    "plt.yticks(fontsize=14)\n",
    "plt.ylim(0,0.16)\n",
    "plt.title(\"Surface Residues\", fontsize=16)\n",
    "plt.tight_layout()\n",
    "\n",
    "plt.savefig(\"graphs/3_RMSF_of_surface_residues.png\")"
   ]
  },
  {
   "cell_type": "code",
   "execution_count": 20,
   "id": "3fd9b15e",
   "metadata": {},
   "outputs": [
    {
     "data": {
      "image/png": "[encoded data removed]",
      "text/plain": [
       "<Figure size 417.6x288 with 1 Axes>"
      ]
     },
     "metadata": {
      "needs_background": "light"
     },
     "output_type": "display_data"
    }
   ],
   "source": [
    "plt.figure(figsize=[5.8,4])\n",
    "barWidth = 0.18\n",
    "y1 = rmsf_nonsurface_avg_1M\n",
    "y2 = rmsf_nonsurface_avg_2M\n",
    "y3 = rmsf_nonsurface_avg_3M\n",
    "y4 = rmsf_nonsurface_avg_4M\n",
    "\n",
    "# Set position of bar on X axis\n",
    "x1 = np.arange(5)\n",
    "x2 = [x + barWidth for x in x1]\n",
    "x3 = [x + barWidth for x in x2]\n",
    "x4 = [x + barWidth for x in x3]\n",
    "x5 = [x + barWidth for x in x4]\n",
    "\n",
    "# Make the barplot\n",
    "plt.bar(x1, y1, alpha = 0.5,color ='C0', width = barWidth,edgecolor ='k', label ='1 M')\n",
    "plt.bar(x2, y2, alpha = 0.5, color ='C2', width = barWidth, edgecolor ='k', label ='2 M')\n",
    "plt.bar(x3, y3,  alpha = 0.5, color ='C1', width = barWidth, edgecolor ='k', label ='3 M')\n",
    "plt.bar(x4, y4,  alpha = 0.5, color ='C3', width = barWidth, edgecolor ='k', label ='4 M')\n",
    "\n",
    "# Adding Xticks\n",
    "plt.xlabel('Temperature ($^\\circ$C)', fontsize=16)\n",
    "plt.ylabel('Average RMSF (nm)', fontsize=16)\n",
    "plt.xticks([x3[0],x3[1],x3[2],x3[3],x3[4]],[10,20,30,40,50], fontsize=14)\n",
    "#plt.legend(loc='center left', bbox_to_anchor=(1, 0.5), fontsize=16)\n",
    "plt.yticks(fontsize=14)\n",
    "plt.ylim(0,0.16)\n",
    "plt.title(\"Non-surface Residues\", fontsize=16)\n",
    "plt.tight_layout()\n",
    "\n",
    "plt.savefig(\"graphs/3_RMSF_of_nonsurface_residues.png\")"
   ]
  },
  {
   "cell_type": "markdown",
   "id": "695bd868",
   "metadata": {},
   "source": [
    "### Calculating % differences"
   ]
  },
  {
   "cell_type": "code",
   "execution_count": 26,
   "id": "449f100b",
   "metadata": {},
   "outputs": [],
   "source": [
    "molarities=[1,2,3,4]"
   ]
  },
  {
   "cell_type": "code",
   "execution_count": 27,
   "id": "2ce0996a",
   "metadata": {},
   "outputs": [],
   "source": [
    "surface = [rmsf_surface_avg_1M,rmsf_surface_avg_2M,rmsf_surface_avg_3M,rmsf_surface_avg_4M]\n",
    "nonsurface = [rmsf_nonsurface_avg_1M,rmsf_nonsurface_avg_2M,rmsf_nonsurface_avg_3M,rmsf_nonsurface_avg_4M]"
   ]
  },
  {
   "cell_type": "markdown",
   "id": "671f3b60",
   "metadata": {},
   "source": [
    "#### % increase in RMSF from buried to surface residues"
   ]
  },
  {
   "cell_type": "code",
   "execution_count": 34,
   "id": "ca9674e5",
   "metadata": {},
   "outputs": [
    {
     "name": "stdout",
     "output_type": "stream",
     "text": [
      " \n",
      "1 M, 10 C: 82.018381357193 percent increase from buried to surface\n",
      "1 M, 20 C: 88.08627128601074 percent increase from buried to surface\n",
      "1 M, 30 C: 84.9488914012909 percent increase from buried to surface\n",
      "1 M, 40 C: 88.3804976940155 percent increase from buried to surface\n",
      "1 M, 50 C: 90.41445255279541 percent increase from buried to surface\n",
      " \n",
      "2 M, 10 C: 75.22442936897278 percent increase from buried to surface\n",
      "2 M, 20 C: 76.48360133171082 percent increase from buried to surface\n",
      "2 M, 30 C: 81.67116641998291 percent increase from buried to surface\n",
      "2 M, 40 C: 80.40290474891663 percent increase from buried to surface\n",
      "2 M, 50 C: 81.67675137519836 percent increase from buried to surface\n",
      " \n",
      "3 M, 10 C: 84.65856909751892 percent increase from buried to surface\n",
      "3 M, 20 C: 84.48979258537292 percent increase from buried to surface\n",
      "3 M, 30 C: 82.06641674041748 percent increase from buried to surface\n",
      "3 M, 40 C: 83.16753506660461 percent increase from buried to surface\n",
      "3 M, 50 C: 82.13273882865906 percent increase from buried to surface\n",
      " \n",
      "4 M, 10 C: 71.53234481811523 percent increase from buried to surface\n",
      "4 M, 20 C: 72.2092866897583 percent increase from buried to surface\n",
      "4 M, 30 C: 73.89825582504272 percent increase from buried to surface\n",
      "4 M, 40 C: 75.67890882492065 percent increase from buried to surface\n",
      "4 M, 50 C: 75.02066493034363 percent increase from buried to surface\n"
     ]
    }
   ],
   "source": [
    "for m in range(len(molarities)):\n",
    "    print(\" \")\n",
    "    for i in range(len(temps_used)):\n",
    "        percent_increase= (surface[m][i]-nonsurface[m][i]) / nonsurface[m][i] * 100\n",
    "        print(\"%d M, %s C:\"%(molarities[m],temps_used[i]), percent_increase, \"percent increase from buried to surface\")"
   ]
  },
  {
   "cell_type": "code",
   "execution_count": 34,
   "id": "af71f9dd",
   "metadata": {},
   "outputs": [
    {
     "name": "stdout",
     "output_type": "stream",
     "text": [
      " \n",
      "1 M, 10 C: 82.018381357193 percent increase from buried to surface\n",
      "1 M, 20 C: 88.08627128601074 percent increase from buried to surface\n",
      "1 M, 30 C: 84.9488914012909 percent increase from buried to surface\n",
      "1 M, 40 C: 88.3804976940155 percent increase from buried to surface\n",
      "1 M, 50 C: 90.41445255279541 percent increase from buried to surface\n",
      " \n",
      "2 M, 10 C: 75.22442936897278 percent increase from buried to surface\n",
      "2 M, 20 C: 76.48360133171082 percent increase from buried to surface\n",
      "2 M, 30 C: 81.67116641998291 percent increase from buried to surface\n",
      "2 M, 40 C: 80.40290474891663 percent increase from buried to surface\n",
      "2 M, 50 C: 81.67675137519836 percent increase from buried to surface\n",
      " \n",
      "3 M, 10 C: 84.65856909751892 percent increase from buried to surface\n",
      "3 M, 20 C: 84.48979258537292 percent increase from buried to surface\n",
      "3 M, 30 C: 82.06641674041748 percent increase from buried to surface\n",
      "3 M, 40 C: 83.16753506660461 percent increase from buried to surface\n",
      "3 M, 50 C: 82.13273882865906 percent increase from buried to surface\n",
      " \n",
      "4 M, 10 C: 71.53234481811523 percent increase from buried to surface\n",
      "4 M, 20 C: 72.2092866897583 percent increase from buried to surface\n",
      "4 M, 30 C: 73.89825582504272 percent increase from buried to surface\n",
      "4 M, 40 C: 75.67890882492065 percent increase from buried to surface\n",
      "4 M, 50 C: 75.02066493034363 percent increase from buried to surface\n"
     ]
    }
   ],
   "source": [
    "for m in range(len(molarities)):\n",
    "    print(\" \")\n",
    "    for i in range(len(temps_used)):\n",
    "        percent_increase= (surface[3][i]-nonsurface[0][i]) / nonsurface[0][i] * 100\n",
    "        print(\"%d M, %s C:\"%(molarities[m],temps_used[i]), percent_increase, \"percent increase from 1M to 4M\")"
   ]
  },
  {
   "cell_type": "markdown",
   "id": "10286c46",
   "metadata": {},
   "source": [
    "#### % increase from 1M to 4M"
   ]
  },
  {
   "cell_type": "code",
   "execution_count": 39,
   "id": "f89849dd",
   "metadata": {},
   "outputs": [
    {
     "name": "stdout",
     "output_type": "stream",
     "text": [
      "10 C: 5.632854253053665 percent increase from 1M to 4M, surface residues\n",
      "50 C: 0.3705572569742799 percent increase from 1M to 4M, surface residues\n",
      "10 C: 12.090355902910233 percent increase from 1M to 4M, nonsurface residues\n",
      "50 C: 9.198560565710068 percent increase from 1M to 4M, nonsurface residues\n"
     ]
    }
   ],
   "source": [
    "for i in [0,4]: #temps 10C and 50 C\n",
    "    percent_increase= (surface[3][i]-surface[0][i]) / surface[0][i] * 100\n",
    "    print(\"%s C:\"%(temps_used[i]), percent_increase, \"percent increase from 1M to 4M, surface residues\")\n",
    "for i in [0,4]: #temps 10C and 50 C\n",
    "    percent_increase= (nonsurface[3][i]-nonsurface[0][i]) / nonsurface[0][i] * 100\n",
    "    print(\"%s C:\"%(temps_used[i]), percent_increase, \"percent increase from 1M to 4M, nonsurface residues\")"
   ]
  },
  {
   "cell_type": "markdown",
   "id": "e2b2d17d",
   "metadata": {},
   "source": [
    "#### % increase from 10C to 50C"
   ]
  },
  {
   "cell_type": "code",
   "execution_count": 42,
   "id": "0467019a",
   "metadata": {},
   "outputs": [
    {
     "name": "stdout",
     "output_type": "stream",
     "text": [
      "1 M: 20.8336740732193 percent increase from 10 to 50C, surface residues\n",
      "4 M: 14.814120531082153 percent increase from 10 to 50C, surface residues\n",
      "1 M: 15.505675971508026 percent increase from 10 to 50C, nonsurface residues\n",
      "4 M: 12.52577006816864 percent increase from 10 to 50C, nonsurface residues\n"
     ]
    }
   ],
   "source": [
    "for m in [0,3]: #only 1M and 4M\n",
    "    percent_increase= (surface[m][4]-surface[m][0]) / surface[m][0] * 100\n",
    "    print(\"%d M:\"%molarities[m], percent_increase, \"percent increase from 10 to 50C, surface residues\")\n",
    "for m in [0,3]: #only 1M and 4M\n",
    "    percent_increase= (nonsurface[m][4]-nonsurface[m][0]) / nonsurface[m][0] * 100\n",
    "    print(\"%d M:\"%molarities[m], percent_increase, \"percent increase from 10 to 50C, nonsurface residues\")"
   ]
  }
 ],
 "metadata": {
  "kernelspec": {
   "display_name": "Python 3 (ipykernel)",
   "language": "python",
   "name": "python3"
  },
  "language_info": {
   "codemirror_mode": {
    "name": "ipython",
    "version": 3
   },
   "file_extension": ".py",
   "mimetype": "text/x-python",
   "name": "python",
   "nbconvert_exporter": "python",
   "pygments_lexer": "ipython3",
   "version": "3.9.7"
  }
 },
 "nbformat": 4,
 "nbformat_minor": 5
}
