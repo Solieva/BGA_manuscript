{
 "cells": [
  {
   "cell_type": "code",
   "execution_count": 2,
   "id": "e5bef23c",
   "metadata": {},
   "outputs": [
    {
     "data": {
      "text/plain": [
       "'/Users/shahlosolieva/Desktop/BGA_manuscript/manuscript_figures/notebooks_to_create_figures'"
      ]
     },
     "execution_count": 2,
     "metadata": {},
     "output_type": "execute_result"
    }
   ],
   "source": [
    "pwd"
   ]
  },
  {
   "cell_type": "code",
   "execution_count": 1,
   "id": "2df26e27",
   "metadata": {},
   "outputs": [],
   "source": [
    "import numpy as np\n",
    "import matplotlib.pyplot as plt\n",
    "import mdtraj as md"
   ]
  },
  {
   "cell_type": "markdown",
   "id": "7effd0df",
   "metadata": {},
   "source": [
    "Load in the RMSF values per residue"
   ]
  },
  {
   "cell_type": "code",
   "execution_count": 83,
   "id": "3c94c2aa",
   "metadata": {},
   "outputs": [],
   "source": [
    "RMSF = np.load(\"../../root_mean_square_fluctuation/average_RMSF_per_residue/average_RMSF_per_residue.npy\",allow_pickle=True)\n",
    "\n",
    "rmsf_1M = RMSF[0:5]\n",
    "rmsf_2M = RMSF[5:10]\n",
    "rmsf_3M = RMSF[10:15]\n",
    "rmsf_4M = RMSF[15:20]\n",
    "\n",
    "rmsf_1M_10 = rmsf_1M[0]\n",
    "rmsf_2M_10 = rmsf_2M[0]\n",
    "rmsf_3M_10 = rmsf_3M[0]\n",
    "rmsf_4M_10 = rmsf_4M[0]\n",
    "\n",
    "rmsf_1M_50 = rmsf_1M[4]\n",
    "rmsf_2M_50 = rmsf_2M[4]\n",
    "rmsf_3M_50 = rmsf_3M[4]\n",
    "rmsf_4M_50 = rmsf_4M[4]"
   ]
  },
  {
   "cell_type": "markdown",
   "id": "19d55a0f",
   "metadata": {},
   "source": [
    "Load in the average RMSF values for Domain A"
   ]
  },
  {
   "cell_type": "code",
   "execution_count": 85,
   "id": "beb67946",
   "metadata": {},
   "outputs": [],
   "source": [
    "RMSF_A = np.load(\"../../root_mean_square_fluctuation/average_RMSF_per_residue/average_RMSF_Domain_A.npy\",allow_pickle=True)\n",
    "\n",
    "rmsf_A_1M = RMSF_A[0:5]\n",
    "rmsf_A_2M = RMSF_A[5:10]\n",
    "rmsf_A_3M = RMSF_A[10:15]\n",
    "rmsf_A_4M = RMSF_A[15:20]\n",
    "\n",
    "rmsf_A_1M_10 = rmsf_A_1M[0]\n",
    "rmsf_A_2M_10 = rmsf_A_2M[0]\n",
    "rmsf_A_3M_10 = rmsf_A_3M[0]\n",
    "rmsf_A_4M_10 = rmsf_A_4M[0]\n",
    "\n",
    "rmsf_A_1M_50 = rmsf_A_1M[4]\n",
    "rmsf_A_2M_50 = rmsf_A_2M[4]\n",
    "rmsf_A_3M_50 = rmsf_A_3M[4]\n",
    "rmsf_A_4M_50 = rmsf_A_4M[4]\n",
    "\n",
    "RMSF_A_10C = [rmsf_A_1M_10,rmsf_A_2M_10,rmsf_A_3M_10,rmsf_A_4M_10]\n",
    "RMSF_A_50C = [rmsf_A_1M_50,rmsf_A_2M_50,rmsf_A_3M_50,rmsf_A_4M_50]"
   ]
  },
  {
   "cell_type": "markdown",
   "id": "011ce385",
   "metadata": {},
   "source": [
    "### Save the values for the active site residues"
   ]
  },
  {
   "cell_type": "code",
   "execution_count": 84,
   "id": "772ad70c",
   "metadata": {},
   "outputs": [],
   "source": [
    "res1 = 102\n",
    "res2 = 140\n",
    "res3 = 141\n",
    "res4 = 266\n",
    "res5 = 311\n",
    "res6 = 319\n",
    "res7 = 359\n",
    "res8 = 362 \n",
    "\n",
    "rmsf_1M_10C = [rmsf_1M_10[res1], rmsf_1M_10[res2], rmsf_1M_10[res3], rmsf_1M_10[res4], rmsf_1M_10[res5], rmsf_1M_10[res6],rmsf_1M_10[res7],rmsf_1M_10[res8],RMSF_A_10C[0]]\n",
    "rmsf_2M_10C = [rmsf_2M_10[res1], rmsf_2M_10[res2], rmsf_2M_10[res3], rmsf_2M_10[res4], rmsf_2M_10[res5], rmsf_2M_10[res6],rmsf_2M_10[res7],rmsf_2M_10[res8],RMSF_A_10C[1]]\n",
    "rmsf_3M_10C = [rmsf_3M_10[res1], rmsf_3M_10[res2], rmsf_3M_10[res3], rmsf_3M_10[res4], rmsf_3M_10[res5], rmsf_3M_10[res6],rmsf_3M_10[res7],rmsf_3M_10[res8],RMSF_A_10C[2]]\n",
    "rmsf_4M_10C = [rmsf_4M_10[res1], rmsf_4M_10[res2], rmsf_4M_10[res3], rmsf_4M_10[res4], rmsf_4M_10[res5], rmsf_4M_10[res6],rmsf_4M_10[res7],rmsf_4M_10[res8],RMSF_A_10C[3]]\n",
    "\n",
    "rmsf_1M_50C = [rmsf_1M_50[res1], rmsf_1M_50[res2], rmsf_1M_50[res3], rmsf_1M_50[res4], rmsf_1M_50[res5], rmsf_1M_50[res6],rmsf_1M_50[res7],rmsf_1M_50[res8],RMSF_A_50C[0]]\n",
    "rmsf_2M_50C = [rmsf_2M_50[res1], rmsf_2M_50[res2], rmsf_2M_50[res3], rmsf_2M_50[res4], rmsf_2M_50[res5], rmsf_2M_50[res6],rmsf_2M_50[res7],rmsf_2M_50[res8],RMSF_A_50C[1]]\n",
    "rmsf_3M_50C = [rmsf_3M_50[res1], rmsf_3M_50[res2], rmsf_3M_50[res3], rmsf_3M_50[res4], rmsf_3M_50[res5], rmsf_3M_50[res6],rmsf_3M_50[res7],rmsf_3M_50[res8],RMSF_A_50C[2]]\n",
    "rmsf_4M_50C = [rmsf_4M_50[res1], rmsf_4M_50[res2], rmsf_4M_50[res3], rmsf_4M_50[res4], rmsf_4M_50[res5], rmsf_4M_50[res6],rmsf_4M_50[res7],rmsf_4M_50[res8],RMSF_A_50C[3]]"
   ]
  },
  {
   "cell_type": "markdown",
   "id": "dcc8a7eb",
   "metadata": {},
   "source": [
    "## Graph "
   ]
  },
  {
   "cell_type": "code",
   "execution_count": 91,
   "id": "df44303c",
   "metadata": {},
   "outputs": [
    {
     "data": {
      "image/png": "[encoded data removed]",
      "text/plain": [
       "<Figure size 1080x360 with 2 Axes>"
      ]
     },
     "metadata": {
      "needs_background": "light"
     },
     "output_type": "display_data"
    }
   ],
   "source": [
    "figure, (ax1, ax2) = plt.subplots(1,2, figsize=[15,5])\n",
    "\n",
    "barWidth = 0.18\n",
    "n = np.array([0,5,10,15,20,25,30,35,40])\n",
    "\n",
    "domain_A_temp = RMSF_A_10C\n",
    "ax1.bar(n+0,rmsf_1M_10C, color=\"C0\")\n",
    "ax1.bar(n+1,rmsf_2M_10C, color=\"C2\")\n",
    "ax1.bar(n+2,rmsf_3M_10C, color=\"C1\")\n",
    "ax1.bar(n+3,rmsf_4M_10C, color=\"C3\")\n",
    "ax1.set_xticks(n+1.5)\n",
    "ax1.set_xticklabels([\"103\",\"141\",\"142\",\"267\",\"312\",\"320\",\"360\",\"363\",\"Domain A\"], fontsize=14,rotation=20)\n",
    "ax1.axhline(domain_A_temp[0], color=\"C0\") # horizontal line for average 1M\n",
    "ax1.axhline(domain_A_temp[1], color=\"C2\") # horizontal line for average 2M\n",
    "ax1.axhline(domain_A_temp[2], color=\"C1\") # horizontal line for average 3M\n",
    "ax1.axhline(domain_A_temp[3], color=\"C3\") # horizontal line for average 4M\n",
    "ax1.set_xlabel('Residue Number',fontsize=16,labelpad=-5)\n",
    "ax1.set_ylabel('Average RMSF (nm)',fontsize=16)\n",
    "ax1.set_title('10$^\\circ$C',fontsize = 16)\n",
    "ax1.set_ylim(0,0.13)\n",
    "ax1.tick_params(labelsize=14)\n",
    "\n",
    "domain_A_temp = RMSF_A_50C\n",
    "ax2.bar(n+0,rmsf_1M_50C,color=\"C0\", label=\"1M KCl\")\n",
    "ax2.bar(n+1,rmsf_2M_50C,color=\"C2\", label=\"2M KCl\")\n",
    "ax2.bar(n+2,rmsf_3M_50C,color=\"C1\", label=\"3M KCl\")\n",
    "ax2.bar(n+3,rmsf_4M_50C,color=\"C3\", label=\"4M KCl\")\n",
    "ax2.set_xticks(n+1.5)\n",
    "ax2.set_xticklabels([\"103\",\"141\",\"142\",\"267\",\"312\",\"320\",\"360\",\"363\",\"Domain A\"], fontsize=14, rotation=20)\n",
    "ax2.axhline(domain_A_temp[0], color=\"C0\") # horizontal line for average 1M\n",
    "ax2.axhline(domain_A_temp[1], color=\"C2\") # horizontal line for average 2M\n",
    "ax2.axhline(domain_A_temp[2], color=\"C1\") # horizontal line for average 3M\n",
    "ax2.axhline(domain_A_temp[3], color=\"C3\") # horizontal line for average 4M\n",
    "ax2.set_xlabel('Residue Number',fontsize=16,labelpad=-5)\n",
    "ax2.set_ylabel('Average RMSF (nm)',fontsize=16)\n",
    "ax2.set_title('50$^\\circ$C',fontsize = 16)\n",
    "ax2.set_ylim(0,0.13)\n",
    "ax2.tick_params(labelsize=14)\n",
    "\n",
    "ax1.text(-7.5,0.135,\"(a)\",fontsize=14)\n",
    "ax2.text(-7.5,0.135,\"(b)\",fontsize=14)\n",
    "\n",
    "ax2.legend(fontsize = 14, loc='center', bbox_to_anchor=(1.15, 0.5))\n",
    "\n",
    "figure.tight_layout()\n",
    "figure.savefig(\"../Figure3.png\")"
   ]
  }
 ],
 "metadata": {
  "kernelspec": {
   "display_name": "Python 3 (ipykernel)",
   "language": "python",
   "name": "python3"
  },
  "language_info": {
   "codemirror_mode": {
    "name": "ipython",
    "version": 3
   },
   "file_extension": ".py",
   "mimetype": "text/x-python",
   "name": "python",
   "nbconvert_exporter": "python",
   "pygments_lexer": "ipython3",
   "version": "3.9.7"
  }
 },
 "nbformat": 4,
 "nbformat_minor": 5
}
